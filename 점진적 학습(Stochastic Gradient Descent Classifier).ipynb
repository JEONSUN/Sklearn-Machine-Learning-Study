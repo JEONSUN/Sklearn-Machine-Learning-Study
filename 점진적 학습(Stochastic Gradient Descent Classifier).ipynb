{
 "cells": [
  {
   "cell_type": "markdown",
   "metadata": {},
   "source": [
    "### 만약 훈련 데이터가 한 번에 준비되는 것이 아닌 조금씩 전달된다면?\n",
    "\n",
    "데이터가 쌓일때까지 기다리기도 어렵게 도착하는대로 솔루션을 제시해야한다면? \n",
    "\n",
    "***\n",
    "해결방안1. 기존의 훈련 데이터에 새로운 데이터를 추가하여 모델을 매일매일 훈련한다<Br>\n",
    "단점: 시간이 지날수록 데이터가 늘어난다. 몇년이 지나면...  지속 가능한 방법은 아니다.\n",
    "    \n",
    "\n",
    "해결방안2. 새로운 데이터를 추가할 때 이전 데이터를 버림으로써 훈련 데이터 크기를 일정하게 유지한다.<br>\n",
    "단점: 데이터를 버릴 때 다른 데이터에 없는 레이블이 들어가 있으면 문제가 생긴다.\n",
    "    \n",
    "***    \n",
    "**앞서 훈련한 모델을 버리지 않고 새로운 데이터에 대해서만 조금씩 더 훈련할 필요가 있다.... 이렇게 한다면 훈련에 사용한 데이터를 모두 유지할 필요도 없고 앞서 학습한 내용을 까먹을 일도 없다.**\n",
    "    \n",
    "\n",
    "이런 식의 훈련 방식을 **점진적 학습**이라고 부르며 대표적인 점진적 학습 알고리즘은 **확률적 경사 하강법(Stochastic Gradient Descent)**가 있다.\n",
    "    \n"
   ]
  },
  {
   "cell_type": "markdown",
   "metadata": {},
   "source": [
    "## 경사하강법\n",
    "\n",
    "- 실제값과 예측값의 에러(loss)를 줄여나가는 가장 기본적인 optimizer 알고리즘\n",
    "- 경사를 따라 내려가며 가중치(w)를 업데이트한다.\n",
    "- 이때 학습률을 사용하여 최솟값을 찾아나가는데 학습률이 너무 크면 전역 최솟값을 놓칠 수 있고 너무 작으면 전역이 아닌 지역 최솟값에 머무를 수 있다."
   ]
  },
  {
   "cell_type": "markdown",
   "metadata": {},
   "source": [
    "## 배치 경사 하강법\n",
    "\n",
    "- 여기서 말하는 배치(batch)는 전체 데이터셋 < 데이터(batch)를 분할 할 경우 mini-batch가 된다.\n",
    "- 전체 데이터셋의 에러를 구한 뒤 모델의 파라미터를 업데이트 하는 방식\n",
    "- 전체 데이터를 한번 업데이트하나 메모리를 많이 잡아먹으며 시간이 오래걸린다.\n",
    "\n",
    "## 확률적 경사 하강법\n",
    "\n",
    "- 훈련세트에서 랜덤하게 하나의 샘플을 고르는 것\n",
    "\n",
    "## 미니 배치 경사 하강법\n",
    "\n",
    "- 전체 데이터셋에서 m개의 데이터를 뽑아 mini - batch를 구성하고 그것의 평균 기울기를 통해 모델을 업데이트한다.\n",
    "- batch - size를 지정해줘야한다."
   ]
  },
  {
   "cell_type": "markdown",
   "metadata": {},
   "source": [
    "## 손실함수(loss function)\n",
    "\n",
    "- 실제값과 예측값의 차이(loss)를 수치화하는 함수\n",
    "- 오차가 클수록 손실 함수 값이 크고, 오차가 작을수록 손실 함수 값이 작다.\n",
    "\n",
    "- 비용 함수(cost function)과는 다른 말이다. 손실 함수는 샘플 하나에 대한 손실을 정의하고 비용 함수는 훈련 세트에 있는 모든 샘플에 대한 손실 함수의 합을 말함! (하지만 통상적으로 이 둘을 구분하지 않고 섞어서 사용한다.)"
   ]
  },
  {
   "cell_type": "markdown",
   "metadata": {},
   "source": [
    "### 로지스틱 손실함수\n",
    "\n",
    "- 이진분류를 위한 손실함수, 다중 분류에서는 크로스엔트로피를 사용한다.\n",
    "> 이진 분류는 2개의 정답만을 가지고 있으므로 타깃이 = 1(양성) 일 때 $-log(예측 확률)$, 타깃이 = 0(음성) 일 때 $-log(1-예측 확률)$<br>\n",
    "> **따라서 확률이 0이나 1에서 멀어질수록 손실은 아주 큰 양수가 된다.**   ex)양성클래스가 예측 확률이 0.9,0.3일 경우 손실은 각각 0.11, 1.2가 된다."
   ]
  },
  {
   "cell_type": "code",
   "execution_count": 1,
   "metadata": {},
   "outputs": [],
   "source": [
    "import numpy as np\n",
    "import pandas as pd\n",
    "import matplotlib.pyplot as plt"
   ]
  },
  {
   "cell_type": "code",
   "execution_count": 2,
   "metadata": {},
   "outputs": [],
   "source": [
    "# 데이터 불러오기\n",
    "data = pd.read_csv('./datasets/fish.csv', encoding = 'CP949')"
   ]
  },
  {
   "cell_type": "code",
   "execution_count": 3,
   "metadata": {},
   "outputs": [],
   "source": [
    "data.columns = ['Species', 'Weight', 'Length1', 'Length2', 'Length3', 'Height',\n",
    "       'Width']"
   ]
  },
  {
   "cell_type": "code",
   "execution_count": 4,
   "metadata": {},
   "outputs": [],
   "source": [
    "target = data[['Species']].to_numpy()\n",
    "data = data.drop(['Species'], axis = 1).to_numpy()"
   ]
  },
  {
   "cell_type": "code",
   "execution_count": 5,
   "metadata": {},
   "outputs": [],
   "source": [
    "from sklearn.model_selection import train_test_split\n",
    "x_train,x_test,y_train,y_test = train_test_split(data,target, random_state = 42)"
   ]
  },
  {
   "cell_type": "code",
   "execution_count": 6,
   "metadata": {},
   "outputs": [
    {
     "name": "stdout",
     "output_type": "stream",
     "text": [
      "(119, 6)\n",
      "(40, 6)\n",
      "(119,)\n",
      "(40,)\n"
     ]
    }
   ],
   "source": [
    "y_train = y_train.flatten()\n",
    "y_test =  y_test.flatten()\n",
    "\n",
    "print(x_train.shape)\n",
    "print(x_test.shape)\n",
    "print(y_train.shape)\n",
    "print(y_test.shape)"
   ]
  },
  {
   "cell_type": "code",
   "execution_count": 7,
   "metadata": {},
   "outputs": [],
   "source": [
    "# 표준화\n",
    "from sklearn.preprocessing import StandardScaler\n",
    "ss = StandardScaler()\n",
    "ss.fit(x_train)\n",
    "train_scaled = ss.transform(x_train)\n",
    "test_scaled = ss.transform(x_test)"
   ]
  },
  {
   "cell_type": "code",
   "execution_count": 8,
   "metadata": {},
   "outputs": [
    {
     "name": "stdout",
     "output_type": "stream",
     "text": [
      "0.7983193277310925\n",
      "0.875\n"
     ]
    },
    {
     "name": "stderr",
     "output_type": "stream",
     "text": [
      "C:\\Users\\admin\\anaconda3\\lib\\site-packages\\sklearn\\linear_model\\_stochastic_gradient.py:570: ConvergenceWarning: Maximum number of iteration reached before convergence. Consider increasing max_iter to improve the fit.\n",
      "  warnings.warn(\"Maximum number of iteration reached before \"\n"
     ]
    }
   ],
   "source": [
    "# 손실함수 log, 훈련셋 10회 반복\n",
    "from sklearn.linear_model import SGDClassifier\n",
    "sgd = SGDClassifier(loss = 'log', max_iter = 10, random_state = 42)\n",
    "sgd.fit(train_scaled, y_train)\n",
    "print(sgd.score(train_scaled, y_train))\n",
    "print(sgd.score(test_scaled, y_test))"
   ]
  },
  {
   "cell_type": "code",
   "execution_count": 9,
   "metadata": {},
   "outputs": [
    {
     "name": "stdout",
     "output_type": "stream",
     "text": [
      "0.865546218487395\n",
      "0.875\n"
     ]
    },
    {
     "name": "stderr",
     "output_type": "stream",
     "text": [
      "C:\\Users\\admin\\anaconda3\\lib\\site-packages\\sklearn\\linear_model\\_stochastic_gradient.py:570: ConvergenceWarning: Maximum number of iteration reached before convergence. Consider increasing max_iter to improve the fit.\n",
      "  warnings.warn(\"Maximum number of iteration reached before \"\n"
     ]
    }
   ],
   "source": [
    "# 조금 더 실행 횟수를 늘려보자 15회\n",
    "from sklearn.linear_model import SGDClassifier\n",
    "sgd = SGDClassifier(loss = 'log', max_iter = 15, random_state = 42)\n",
    "sgd.fit(train_scaled, y_train)\n",
    "print(sgd.score(train_scaled, y_train))\n",
    "print(sgd.score(test_scaled, y_test))"
   ]
  },
  {
   "cell_type": "code",
   "execution_count": 10,
   "metadata": {},
   "outputs": [
    {
     "name": "stdout",
     "output_type": "stream",
     "text": [
      "0.9159663865546218\n",
      "0.9\n"
     ]
    }
   ],
   "source": [
    "# 너무 적은 반복으로 경고 발생, 100회 실시\n",
    "from sklearn.linear_model import SGDClassifier\n",
    "sgd = SGDClassifier(loss = 'log', max_iter = 100, random_state = 42)\n",
    "sgd.fit(train_scaled, y_train)\n",
    "print(sgd.score(train_scaled, y_train))\n",
    "print(sgd.score(test_scaled, y_test))"
   ]
  },
  {
   "cell_type": "markdown",
   "metadata": {},
   "source": [
    "실행 횟수를 늘릴수록 정확도가 올라갔다. \n",
    "\n",
    "\n",
    "- 확률적 경사 하강법에서 훈련 세트를 한 번 모두 사용하는 과정을 **에포크**라고 부른다.\n",
    "\n",
    "확률적 경사 하강법을 사용한 모델은 에포크에 따라 과소적합이나 과대적합이 될 수 있다. 에포크 횟수가 적으면 모델이 훈련 세트를 덜 학습하고, 에포크 횟수가 충분해야 훈련 세트를 완전히 적합이 가능할 것이다.\n",
    "\n",
    "에포크에 따라 성능이 달라지므로 최적의 에포크를 얼마나 줘야하는지 판단할 필요가 있다.\n",
    "\n"
   ]
  },
  {
   "cell_type": "code",
   "execution_count": 11,
   "metadata": {},
   "outputs": [],
   "source": [
    "import numpy as np\n",
    "sc = SGDClassifier(loss = 'log', random_state = 42)\n",
    "train_score = []\n",
    "test_score = []\n",
    "classes = np.unique(y_train)"
   ]
  },
  {
   "cell_type": "code",
   "execution_count": 12,
   "metadata": {},
   "outputs": [],
   "source": [
    "# 300번의 에포크 훈련 반복 진행\n",
    "for _ in range(0,300) :\n",
    "    sc.partial_fit(train_scaled, y_train, classes = classes)\n",
    "    train_score.append(sc.score(train_scaled, y_train))\n",
    "    test_score.append(sc.score(test_scaled, y_test))"
   ]
  },
  {
   "cell_type": "code",
   "execution_count": 13,
   "metadata": {
    "scrolled": false
   },
   "outputs": [
    {
     "data": {
      "image/png": "[encoded data removed]",
      "text/plain": [
       "<Figure size 864x432 with 1 Axes>"
      ]
     },
     "metadata": {
      "needs_background": "light"
     },
     "output_type": "display_data"
    }
   ],
   "source": [
    "plt.figure(figsize = (12,6))\n",
    "plt.plot(train_score, label = 'train')\n",
    "plt.plot(test_score, label = 'test')\n",
    "plt.xlabel('epoch')\n",
    "plt.ylabel('accuracy')\n",
    "plt.legend()\n",
    "plt.show()"
   ]
  },
  {
   "cell_type": "markdown",
   "metadata": {},
   "source": [
    "초기 에포크를 살펴보면 성능이 낮아 과소적합을 의심해봐야하고, 100번째 이후 부터 train과 test의 간격이 벌어지고 있음을 볼 수 있다.\n",
    "\n",
    "\n",
    "반복 횟수를 100으로 지정하여 최종 모델 훈련"
   ]
  },
  {
   "cell_type": "code",
   "execution_count": 16,
   "metadata": {},
   "outputs": [
    {
     "name": "stdout",
     "output_type": "stream",
     "text": [
      "0.9495798319327731\n",
      "0.925\n"
     ]
    }
   ],
   "source": [
    "from sklearn.linear_model import SGDClassifier\n",
    "sgd = SGDClassifier(loss = 'log', max_iter = 100, random_state = 42, tol = None)\n",
    "sgd.fit(train_scaled, y_train)\n",
    "print(sgd.score(train_scaled, y_train))\n",
    "print(sgd.score(test_scaled, y_test))"
   ]
  },
  {
   "cell_type": "markdown",
   "metadata": {},
   "source": [
    "SGDclassifier는 일정 에포크 동안 성능이 향상되지 않으면 더 훈련하지 않고 자동으로 멈춘다. 이때, tol = None으로 지정해주면 자동으로 멈추지 않고 무조건 지정한 횟수만큼 반복한다."
   ]
  },
  {
   "cell_type": "code",
   "execution_count": 18,
   "metadata": {},
   "outputs": [
    {
     "name": "stdout",
     "output_type": "stream",
     "text": [
      "0.8319327731092437\n",
      "0.85\n"
     ]
    }
   ],
   "source": [
    "sgd = SGDClassifier(loss ='hinge', max_iter = 100, tol = None, random_state = 42)\n",
    "sgd.fit(train_scaled, y_train)\n",
    "print(sgd.score(train_scaled, y_train))\n",
    "print(sgd.score(test_scaled, y_test))"
   ]
  },
  {
   "cell_type": "markdown",
   "metadata": {},
   "source": [
    "손실함수를 hinge로 지정해주면 서포트 벡터 머신의 손실 함수로 대체하여 적용이 가능하다."
   ]
  }
 ],
 "metadata": {
  "kernelspec": {
   "display_name": "Python 3",
   "language": "python",
   "name": "python3"
  },
  "language_info": {
   "codemirror_mode": {
    "name": "ipython",
    "version": 3
   },
   "file_extension": ".py",
   "mimetype": "text/x-python",
   "name": "python",
   "nbconvert_exporter": "python",
   "pygments_lexer": "ipython3",
   "version": "3.8.5"
  }
 },
 "nbformat": 4,
 "nbformat_minor": 4
}
