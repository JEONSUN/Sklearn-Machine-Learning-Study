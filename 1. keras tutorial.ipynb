{
 "cells": [
  {
   "cell_type": "code",
   "execution_count": 23,
   "metadata": {},
   "outputs": [],
   "source": [
    "# 패키지 호출\n",
    "import keras\n",
    "import numpy as np"
   ]
  },
  {
   "cell_type": "markdown",
   "metadata": {},
   "source": [
    "**models** : 인공신경망의 각 계층을 연결하여 하나의 모델을 만든 후 컴파일, 학습, 예측을 담당한다.\n",
    "\n",
    "**layers** : 인공신경망의 각 계층을 만드는 클래스들을 제공한다."
   ]
  },
  {
   "cell_type": "code",
   "execution_count": 24,
   "metadata": {},
   "outputs": [],
   "source": [
    "# 데이터 지정 \n",
    "x = np.array([0,1,2,3,4])\n",
    "y = x*2 + 1"
   ]
  },
  {
   "cell_type": "markdown",
   "metadata": {},
   "source": [
    "숫자를 예측하는 간단한 인공신경망\n",
    "<br><Br>\n",
    "**입력 계층 1개 노드** --> **완전 연결 계층 1개 노드** --> **출력 계층 1개 노드**\n",
    "    \n",
    "    \n",
    "    \n",
    "**완전 연결 계층** : 입력 벡터에 가중치 벡터를 내적하고 편향값을 빼주는 동작을 한다."
   ]
  },
  {
   "cell_type": "code",
   "execution_count": 25,
   "metadata": {},
   "outputs": [],
   "source": [
    "# 케라스로 인공신경망 모델을 만들기 시작했음을 파이썬 프로세스에게 알림.\n",
    "model = keras.models.Sequential()"
   ]
  },
  {
   "cell_type": "markdown",
   "metadata": {},
   "source": [
    "models.Sequential은 파이썬의 클래스이며 model이라는 인스턴스를 만든다.\n",
    "\n",
    "**인스턴스** : 해당 클래스의 구조로 컴퓨터 저장공간에서 할당된 실체를 의미한다."
   ]
  },
  {
   "cell_type": "code",
   "execution_count": 26,
   "metadata": {},
   "outputs": [],
   "source": [
    "# model 인스턴스에 인공지능 계층을 추가.\n",
    "model.add(keras.layers.Dense(1,input_shape = (1,)))"
   ]
  },
  {
   "cell_type": "markdown",
   "metadata": {},
   "source": [
    "추가한 인공지는 계층은 입력노드 하나와 가중치 하나를 가지는 선형 처리 계층이다.\n",
    "\n",
    "\n",
    "**Dense** : 입출력을 모두 연결해주는 레이어이다.<br>\n",
    "ex) Dense(16, input_dim=4, init='uniform', activation='linear'))\n",
    "\n",
    "Dense의 주요 인자 \n",
    "***\n",
    "**첫번째 인자** : 출력 뉴런의 수를 설정\n",
    "\n",
    "**input_dim** : 입력 뉴런의 수를 설정\n",
    "\n",
    "**init** : 가중치 초기화 방법 설정\n",
    ">- uniform : 균일 분포 \n",
    ">- normal : 가우시안 분포\n",
    "\n",
    "**activation** : 활성화 함수를 설정\n",
    ">- linear : 디폴트 값, 입력뉴런과 가중치로 계산된 결과값이 그대로 출력\n",
    ">- relu : 0보다 작으면 0이고 0보다 크면 입력값 그대로 내보냄.\n",
    ">- sigmoid : 시그모이드 함수, 1과 0사이의 값을 가지며 이진 분류 문제에서 출력층에 주로 쓰인다.\n",
    ">- softmax : 소프트맥스 함수, 다중 클래스 분류 문제에서 출력층에 주로 쓰인다."
   ]
  },
  {
   "cell_type": "code",
   "execution_count": 27,
   "metadata": {},
   "outputs": [],
   "source": [
    "# 최적화 함수는 'SGD'로 loss function은 'mse'로 지정\n",
    "model.compile('SGD','mse')"
   ]
  },
  {
   "cell_type": "markdown",
   "metadata": {},
   "source": [
    "**Compile** : 모델 파라미터를 통해 모델 구조를 생성하는 단계, 학습 방식에 대한 환경설정\n",
    "\n",
    "***\n",
    "- optimizer : 최적화 함수를 설정.\n",
    "\n",
    "- loss : 훈련 과정에서 사용할 loss function을 설정.\n",
    "\n",
    "- metrics : 훈련을 모니터링하기 위한 지표를 설정\n",
    "***"
   ]
  },
  {
   "cell_type": "code",
   "execution_count": 28,
   "metadata": {},
   "outputs": [
    {
     "data": {
      "text/plain": [
       "<keras.callbacks.callbacks.History at 0x2ab3f42cef0>"
      ]
     },
     "execution_count": 28,
     "metadata": {},
     "output_type": "execute_result"
    }
   ],
   "source": [
    "# 모델을 주어진 데이터로 학습\n",
    "model.fit(x[:2],y[:2],epochs = 1000, verbose = 0)"
   ]
  },
  {
   "cell_type": "markdown",
   "metadata": {},
   "source": [
    "주어진 모델 : model<br>\n",
    "데이터 : x\n",
    "\n",
    "찾아야 할 미지수 : 가중치 하나와 편향값 하나이므로 입력 신호 둘과 출력 신호 둘을 제공하면 미지수를 찾을 수 있다.\n",
    "\n",
    "전체 데이터 중 2개를 이용하도록 입력과 출력 신호를 x[:2], y[:2]로 지정\n",
    "\n",
    "\n",
    "**epochs** : 인공신경망을 학습할 때 학습 데이터 전체가 사용된 한 회\n",
    "\n",
    "**verbose** : 학습 진행 사항의 표시 여부, 0일 경우 표시하지 않음. "
   ]
  },
  {
   "cell_type": "code",
   "execution_count": 30,
   "metadata": {},
   "outputs": [
    {
     "name": "stdout",
     "output_type": "stream",
     "text": [
      "Targets : [5 7 9]\n",
      "Predictions: [1.0056202 2.9965267]\n"
     ]
    }
   ],
   "source": [
    "# 학습이 잘 되었는지 확인\n",
    "print('Targets :', y[2:])\n",
    "print('Predictions:', model.predict(x[:2]).flatten())"
   ]
  }
 ],
 "metadata": {
  "kernelspec": {
   "display_name": "Python 3",
   "language": "python",
   "name": "python3"
  },
  "language_info": {
   "codemirror_mode": {
    "name": "ipython",
    "version": 3
   },
   "file_extension": ".py",
   "mimetype": "text/x-python",
   "name": "python",
   "nbconvert_exporter": "python",
   "pygments_lexer": "ipython3",
   "version": "3.7.3"
  }
 },
 "nbformat": 4,
 "nbformat_minor": 2
}
