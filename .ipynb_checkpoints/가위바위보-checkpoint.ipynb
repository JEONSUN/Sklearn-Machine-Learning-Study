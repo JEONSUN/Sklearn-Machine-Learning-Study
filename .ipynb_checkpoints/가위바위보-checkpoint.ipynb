{
 "cells": [
  {
   "cell_type": "code",
   "execution_count": 1,
   "metadata": {},
   "outputs": [],
   "source": [
    "import random"
   ]
  },
  {
   "cell_type": "code",
   "execution_count": 2,
   "metadata": {
    "scrolled": true
   },
   "outputs": [
    {
     "name": "stdout",
     "output_type": "stream",
     "text": [
      "가위 바위 보! : 보\n",
      "내가 낸 결과 : 보\n",
      "상대방이 낸 결과 :  바위\n",
      "나의 승리입니다.\n"
     ]
    }
   ],
   "source": [
    "me = input(\"가위 바위 보! : \")\n",
    "you = {\"가위\" : 0, \"바위\" : 1, \"보\" : 2}\n",
    "\n",
    "def rock_cissor_paper(x,y) :\n",
    "    x1 = \"가위\"\n",
    "    x2 = \"바위\"\n",
    "    x3 = \"보\"\n",
    "    new_y = []\n",
    "    idx = list(y.keys())\n",
    "    idx1 = list(y.values())\n",
    "    \n",
    "    for k in y.values() :\n",
    "        new_y.append(k)\n",
    "        \n",
    "    new_y = random.choice(new_y)\n",
    "    print(\"내가 낸 결과 :\", x)\n",
    "    print(\"상대방이 낸 결과 : \", idx[idx1.index(new_y)])\n",
    "    if x == x1 :\n",
    "        x = 0\n",
    "        if x - new_y == 0 :\n",
    "            print(\"무승부입니다.\")\n",
    "        elif x - new_y == -1 :\n",
    "            print(\"나의 패배입니다\")\n",
    "        else :\n",
    "            print(\"나의 승리입니다\") \n",
    "        \n",
    "    elif x == x2 :\n",
    "        x = 1\n",
    "        if x - new_y == 0 :\n",
    "            print(\"무승부입니다.\")\n",
    "        elif x - new_y == -1 :\n",
    "            print(\"나의 패배입니다.\")\n",
    "        else :\n",
    "            print(\"나의 승리입니다.\")\n",
    "    elif x == x3 :\n",
    "        x = 2\n",
    "        if x - new_y == 0 :\n",
    "            print(\"무승부입니다.\")\n",
    "        elif x - new_y == 1 :\n",
    "            print(\"나의 승리입니다.\")\n",
    "        else : \n",
    "            print(\"나의 패배입니다.\")\n",
    "            \n",
    "rock_cissor_paper(me,you)"
   ]
  }
 ],
 "metadata": {
  "kernelspec": {
   "display_name": "Python 3",
   "language": "python",
   "name": "python3"
  },
  "language_info": {
   "codemirror_mode": {
    "name": "ipython",
    "version": 3
   },
   "file_extension": ".py",
   "mimetype": "text/x-python",
   "name": "python",
   "nbconvert_exporter": "python",
   "pygments_lexer": "ipython3",
   "version": "3.7.3"
  }
 },
 "nbformat": 4,
 "nbformat_minor": 2
}
