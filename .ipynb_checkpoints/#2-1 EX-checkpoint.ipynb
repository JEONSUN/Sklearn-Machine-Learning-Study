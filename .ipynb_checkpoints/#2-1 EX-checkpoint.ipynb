{
 "cells": [
  {
   "cell_type": "markdown",
   "metadata": {},
   "source": [
    "### 핸즈온 머신러닝 2장 연습문제\n",
    "\n",
    "####  boston data 사용"
   ]
  },
  {
   "cell_type": "code",
   "execution_count": 60,
   "metadata": {},
   "outputs": [],
   "source": [
    "# 데이터 준비\n",
    "from sklearn.datasets import load_boston\n",
    "\n",
    "bos = load_boston()\n",
    "X = bos['data']\n",
    "y = bos['target'].astype('float')"
   ]
  },
  {
   "cell_type": "markdown",
   "metadata": {},
   "source": [
    "### 서포트 벡터 머신 회귀를  kernal = \"linear\"나 kernal = \"rbf\" 등의 다양한 하이퍼파라미터 설정으로 시도해 보세요. 지금은 이 하이퍼파라미터가 무엇을 의미하는지 너무 신경쓰지마세요. 최상의 SVR 모델은 무엇인가요?"
   ]
  },
  {
   "cell_type": "code",
   "execution_count": 61,
   "metadata": {},
   "outputs": [],
   "source": [
    "from sklearn.svm import SVR\n",
    "from sklearn.model_selection import train_test_split\n",
    "from sklearn.model_selection import GridSearchCV\n",
    "\n",
    "X_train,X_test,y_train,y_test = train_test_split(X,y, random_state = 42)\n",
    "param_grid = [{'kernel' : ['linear'], 'C' : [1,3,30,100],\n",
    "    'kernel' : ['rbf'],'C' :[1,3,30,100],\n",
    "    'gamma' : [0.01,0.03,0.1,0.5,1]}]"
   ]
  },
  {
   "cell_type": "code",
   "execution_count": 62,
   "metadata": {},
   "outputs": [
    {
     "name": "stdout",
     "output_type": "stream",
     "text": [
      "Fitting 5 folds for each of 20 candidates, totalling 100 fits\n",
      "[CV] C=1, gamma=0.01, kernel=rbf .....................................\n",
      "[CV] ...................... C=1, gamma=0.01, kernel=rbf, total=   0.0s\n",
      "[CV] C=1, gamma=0.01, kernel=rbf .....................................\n",
      "[CV] ...................... C=1, gamma=0.01, kernel=rbf, total=   0.0s\n",
      "[CV] C=1, gamma=0.01, kernel=rbf .....................................\n",
      "[CV] ...................... C=1, gamma=0.01, kernel=rbf, total=   0.0s\n",
      "[CV] C=1, gamma=0.01, kernel=rbf .....................................\n",
      "[CV] ...................... C=1, gamma=0.01, kernel=rbf, total=   0.0s\n",
      "[CV] C=1, gamma=0.01, kernel=rbf .....................................\n",
      "[CV] ...................... C=1, gamma=0.01, kernel=rbf, total=   0.0s\n",
      "[CV] C=1, gamma=0.03, kernel=rbf .....................................\n",
      "[CV] ...................... C=1, gamma=0.03, kernel=rbf, total=   0.0s\n",
      "[CV] C=1, gamma=0.03, kernel=rbf .....................................\n",
      "[CV] ...................... C=1, gamma=0.03, kernel=rbf, total=   0.0s\n",
      "[CV] C=1, gamma=0.03, kernel=rbf .....................................\n",
      "[CV] ...................... C=1, gamma=0.03, kernel=rbf, total=   0.0s\n",
      "[CV] C=1, gamma=0.03, kernel=rbf .....................................\n",
      "[CV] ...................... C=1, gamma=0.03, kernel=rbf, total=   0.0s\n",
      "[CV] C=1, gamma=0.03, kernel=rbf .....................................\n",
      "[CV] ...................... C=1, gamma=0.03, kernel=rbf, total=   0.0s\n",
      "[CV] C=1, gamma=0.1, kernel=rbf ......................................\n",
      "[CV] ....................... C=1, gamma=0.1, kernel=rbf, total=   0.0s\n",
      "[CV] C=1, gamma=0.1, kernel=rbf ......................................\n",
      "[CV] ....................... C=1, gamma=0.1, kernel=rbf, total=   0.0s\n",
      "[CV] C=1, gamma=0.1, kernel=rbf ......................................\n",
      "[CV] ....................... C=1, gamma=0.1, kernel=rbf, total=   0.0s\n",
      "[CV] C=1, gamma=0.1, kernel=rbf ......................................\n",
      "[CV] ....................... C=1, gamma=0.1, kernel=rbf, total=   0.0s\n",
      "[CV] C=1, gamma=0.1, kernel=rbf ......................................\n"
     ]
    },
    {
     "name": "stderr",
     "output_type": "stream",
     "text": [
      "[Parallel(n_jobs=1)]: Using backend SequentialBackend with 1 concurrent workers.\n",
      "[Parallel(n_jobs=1)]: Done   1 out of   1 | elapsed:    0.0s remaining:    0.0s\n"
     ]
    },
    {
     "name": "stdout",
     "output_type": "stream",
     "text": [
      "[CV] ....................... C=1, gamma=0.1, kernel=rbf, total=   0.0s\n",
      "[CV] C=1, gamma=0.5, kernel=rbf ......................................\n",
      "[CV] ....................... C=1, gamma=0.5, kernel=rbf, total=   0.0s\n",
      "[CV] C=1, gamma=0.5, kernel=rbf ......................................\n",
      "[CV] ....................... C=1, gamma=0.5, kernel=rbf, total=   0.0s\n",
      "[CV] C=1, gamma=0.5, kernel=rbf ......................................\n",
      "[CV] ....................... C=1, gamma=0.5, kernel=rbf, total=   0.0s\n",
      "[CV] C=1, gamma=0.5, kernel=rbf ......................................\n",
      "[CV] ....................... C=1, gamma=0.5, kernel=rbf, total=   0.0s\n",
      "[CV] C=1, gamma=0.5, kernel=rbf ......................................\n",
      "[CV] ....................... C=1, gamma=0.5, kernel=rbf, total=   0.0s\n",
      "[CV] C=1, gamma=1, kernel=rbf ........................................\n",
      "[CV] ......................... C=1, gamma=1, kernel=rbf, total=   0.0s\n",
      "[CV] C=1, gamma=1, kernel=rbf ........................................\n",
      "[CV] ......................... C=1, gamma=1, kernel=rbf, total=   0.0s\n",
      "[CV] C=1, gamma=1, kernel=rbf ........................................\n",
      "[CV] ......................... C=1, gamma=1, kernel=rbf, total=   0.0s\n",
      "[CV] C=1, gamma=1, kernel=rbf ........................................\n",
      "[CV] ......................... C=1, gamma=1, kernel=rbf, total=   0.0s\n",
      "[CV] C=1, gamma=1, kernel=rbf ........................................\n",
      "[CV] ......................... C=1, gamma=1, kernel=rbf, total=   0.0s\n",
      "[CV] C=3, gamma=0.01, kernel=rbf .....................................\n",
      "[CV] ...................... C=3, gamma=0.01, kernel=rbf, total=   0.0s\n",
      "[CV] C=3, gamma=0.01, kernel=rbf .....................................\n",
      "[CV] ...................... C=3, gamma=0.01, kernel=rbf, total=   0.0s\n",
      "[CV] C=3, gamma=0.01, kernel=rbf .....................................\n",
      "[CV] ...................... C=3, gamma=0.01, kernel=rbf, total=   0.0s\n",
      "[CV] C=3, gamma=0.01, kernel=rbf .....................................\n",
      "[CV] ...................... C=3, gamma=0.01, kernel=rbf, total=   0.0s\n",
      "[CV] C=3, gamma=0.01, kernel=rbf .....................................\n",
      "[CV] ...................... C=3, gamma=0.01, kernel=rbf, total=   0.0s\n",
      "[CV] C=3, gamma=0.03, kernel=rbf .....................................\n",
      "[CV] ...................... C=3, gamma=0.03, kernel=rbf, total=   0.0s\n",
      "[CV] C=3, gamma=0.03, kernel=rbf .....................................\n",
      "[CV] ...................... C=3, gamma=0.03, kernel=rbf, total=   0.0s\n",
      "[CV] C=3, gamma=0.03, kernel=rbf .....................................\n",
      "[CV] ...................... C=3, gamma=0.03, kernel=rbf, total=   0.0s\n",
      "[CV] C=3, gamma=0.03, kernel=rbf .....................................\n",
      "[CV] ...................... C=3, gamma=0.03, kernel=rbf, total=   0.0s\n",
      "[CV] C=3, gamma=0.03, kernel=rbf .....................................\n",
      "[CV] ...................... C=3, gamma=0.03, kernel=rbf, total=   0.0s\n",
      "[CV] C=3, gamma=0.1, kernel=rbf ......................................\n",
      "[CV] ....................... C=3, gamma=0.1, kernel=rbf, total=   0.0s\n",
      "[CV] C=3, gamma=0.1, kernel=rbf ......................................\n",
      "[CV] ....................... C=3, gamma=0.1, kernel=rbf, total=   0.0s\n",
      "[CV] C=3, gamma=0.1, kernel=rbf ......................................\n",
      "[CV] ....................... C=3, gamma=0.1, kernel=rbf, total=   0.0s\n",
      "[CV] C=3, gamma=0.1, kernel=rbf ......................................\n",
      "[CV] ....................... C=3, gamma=0.1, kernel=rbf, total=   0.0s\n",
      "[CV] C=3, gamma=0.1, kernel=rbf ......................................\n",
      "[CV] ....................... C=3, gamma=0.1, kernel=rbf, total=   0.0s\n",
      "[CV] C=3, gamma=0.5, kernel=rbf ......................................\n",
      "[CV] ....................... C=3, gamma=0.5, kernel=rbf, total=   0.0s\n",
      "[CV] C=3, gamma=0.5, kernel=rbf ......................................\n",
      "[CV] ....................... C=3, gamma=0.5, kernel=rbf, total=   0.0s\n",
      "[CV] C=3, gamma=0.5, kernel=rbf ......................................\n",
      "[CV] ....................... C=3, gamma=0.5, kernel=rbf, total=   0.0s\n",
      "[CV] C=3, gamma=0.5, kernel=rbf ......................................\n",
      "[CV] ....................... C=3, gamma=0.5, kernel=rbf, total=   0.0s\n",
      "[CV] C=3, gamma=0.5, kernel=rbf ......................................\n",
      "[CV] ....................... C=3, gamma=0.5, kernel=rbf, total=   0.0s\n",
      "[CV] C=3, gamma=1, kernel=rbf ........................................\n",
      "[CV] ......................... C=3, gamma=1, kernel=rbf, total=   0.0s\n",
      "[CV] C=3, gamma=1, kernel=rbf ........................................\n",
      "[CV] ......................... C=3, gamma=1, kernel=rbf, total=   0.0s\n",
      "[CV] C=3, gamma=1, kernel=rbf ........................................\n",
      "[CV] ......................... C=3, gamma=1, kernel=rbf, total=   0.0s\n",
      "[CV] C=3, gamma=1, kernel=rbf ........................................\n",
      "[CV] ......................... C=3, gamma=1, kernel=rbf, total=   0.0s\n",
      "[CV] C=3, gamma=1, kernel=rbf ........................................\n",
      "[CV] ......................... C=3, gamma=1, kernel=rbf, total=   0.0s\n",
      "[CV] C=30, gamma=0.01, kernel=rbf ....................................\n",
      "[CV] ..................... C=30, gamma=0.01, kernel=rbf, total=   0.0s\n",
      "[CV] C=30, gamma=0.01, kernel=rbf ....................................\n",
      "[CV] ..................... C=30, gamma=0.01, kernel=rbf, total=   0.0s\n",
      "[CV] C=30, gamma=0.01, kernel=rbf ....................................\n",
      "[CV] ..................... C=30, gamma=0.01, kernel=rbf, total=   0.0s\n",
      "[CV] C=30, gamma=0.01, kernel=rbf ....................................\n",
      "[CV] ..................... C=30, gamma=0.01, kernel=rbf, total=   0.0s\n",
      "[CV] C=30, gamma=0.01, kernel=rbf ....................................\n",
      "[CV] ..................... C=30, gamma=0.01, kernel=rbf, total=   0.0s\n",
      "[CV] C=30, gamma=0.03, kernel=rbf ....................................\n",
      "[CV] ..................... C=30, gamma=0.03, kernel=rbf, total=   0.0s\n",
      "[CV] C=30, gamma=0.03, kernel=rbf ....................................\n",
      "[CV] ..................... C=30, gamma=0.03, kernel=rbf, total=   0.0s\n",
      "[CV] C=30, gamma=0.03, kernel=rbf ....................................\n",
      "[CV] ..................... C=30, gamma=0.03, kernel=rbf, total=   0.0s\n",
      "[CV] C=30, gamma=0.03, kernel=rbf ....................................\n",
      "[CV] ..................... C=30, gamma=0.03, kernel=rbf, total=   0.0s\n",
      "[CV] C=30, gamma=0.03, kernel=rbf ....................................\n",
      "[CV] ..................... C=30, gamma=0.03, kernel=rbf, total=   0.0s\n",
      "[CV] C=30, gamma=0.1, kernel=rbf .....................................\n",
      "[CV] ...................... C=30, gamma=0.1, kernel=rbf, total=   0.0s\n",
      "[CV] C=30, gamma=0.1, kernel=rbf .....................................\n",
      "[CV] ...................... C=30, gamma=0.1, kernel=rbf, total=   0.0s\n",
      "[CV] C=30, gamma=0.1, kernel=rbf .....................................\n",
      "[CV] ...................... C=30, gamma=0.1, kernel=rbf, total=   0.0s\n",
      "[CV] C=30, gamma=0.1, kernel=rbf .....................................\n",
      "[CV] ...................... C=30, gamma=0.1, kernel=rbf, total=   0.0s\n",
      "[CV] C=30, gamma=0.1, kernel=rbf .....................................\n",
      "[CV] ...................... C=30, gamma=0.1, kernel=rbf, total=   0.0s\n",
      "[CV] C=30, gamma=0.5, kernel=rbf .....................................\n",
      "[CV] ...................... C=30, gamma=0.5, kernel=rbf, total=   0.0s\n",
      "[CV] C=30, gamma=0.5, kernel=rbf .....................................\n",
      "[CV] ...................... C=30, gamma=0.5, kernel=rbf, total=   0.0s\n",
      "[CV] C=30, gamma=0.5, kernel=rbf .....................................\n",
      "[CV] ...................... C=30, gamma=0.5, kernel=rbf, total=   0.0s\n",
      "[CV] C=30, gamma=0.5, kernel=rbf .....................................\n",
      "[CV] ...................... C=30, gamma=0.5, kernel=rbf, total=   0.0s\n",
      "[CV] C=30, gamma=0.5, kernel=rbf .....................................\n",
      "[CV] ...................... C=30, gamma=0.5, kernel=rbf, total=   0.0s\n",
      "[CV] C=30, gamma=1, kernel=rbf .......................................\n",
      "[CV] ........................ C=30, gamma=1, kernel=rbf, total=   0.0s\n",
      "[CV] C=30, gamma=1, kernel=rbf .......................................\n",
      "[CV] ........................ C=30, gamma=1, kernel=rbf, total=   0.0s\n",
      "[CV] C=30, gamma=1, kernel=rbf .......................................\n",
      "[CV] ........................ C=30, gamma=1, kernel=rbf, total=   0.0s\n",
      "[CV] C=30, gamma=1, kernel=rbf .......................................\n",
      "[CV] ........................ C=30, gamma=1, kernel=rbf, total=   0.0s\n",
      "[CV] C=30, gamma=1, kernel=rbf .......................................\n",
      "[CV] ........................ C=30, gamma=1, kernel=rbf, total=   0.0s\n",
      "[CV] C=100, gamma=0.01, kernel=rbf ...................................\n",
      "[CV] .................... C=100, gamma=0.01, kernel=rbf, total=   0.0s\n",
      "[CV] C=100, gamma=0.01, kernel=rbf ...................................\n"
     ]
    },
    {
     "name": "stdout",
     "output_type": "stream",
     "text": [
      "[CV] .................... C=100, gamma=0.01, kernel=rbf, total=   0.0s\n",
      "[CV] C=100, gamma=0.01, kernel=rbf ...................................\n",
      "[CV] .................... C=100, gamma=0.01, kernel=rbf, total=   0.0s\n",
      "[CV] C=100, gamma=0.01, kernel=rbf ...................................\n",
      "[CV] .................... C=100, gamma=0.01, kernel=rbf, total=   0.0s\n",
      "[CV] C=100, gamma=0.01, kernel=rbf ...................................\n",
      "[CV] .................... C=100, gamma=0.01, kernel=rbf, total=   0.0s\n",
      "[CV] C=100, gamma=0.03, kernel=rbf ...................................\n",
      "[CV] .................... C=100, gamma=0.03, kernel=rbf, total=   0.0s\n",
      "[CV] C=100, gamma=0.03, kernel=rbf ...................................\n",
      "[CV] .................... C=100, gamma=0.03, kernel=rbf, total=   0.0s\n",
      "[CV] C=100, gamma=0.03, kernel=rbf ...................................\n",
      "[CV] .................... C=100, gamma=0.03, kernel=rbf, total=   0.0s\n",
      "[CV] C=100, gamma=0.03, kernel=rbf ...................................\n",
      "[CV] .................... C=100, gamma=0.03, kernel=rbf, total=   0.0s\n",
      "[CV] C=100, gamma=0.03, kernel=rbf ...................................\n",
      "[CV] .................... C=100, gamma=0.03, kernel=rbf, total=   0.0s\n",
      "[CV] C=100, gamma=0.1, kernel=rbf ....................................\n",
      "[CV] ..................... C=100, gamma=0.1, kernel=rbf, total=   0.0s\n",
      "[CV] C=100, gamma=0.1, kernel=rbf ....................................\n",
      "[CV] ..................... C=100, gamma=0.1, kernel=rbf, total=   0.0s\n",
      "[CV] C=100, gamma=0.1, kernel=rbf ....................................\n",
      "[CV] ..................... C=100, gamma=0.1, kernel=rbf, total=   0.0s\n",
      "[CV] C=100, gamma=0.1, kernel=rbf ....................................\n",
      "[CV] ..................... C=100, gamma=0.1, kernel=rbf, total=   0.0s\n",
      "[CV] C=100, gamma=0.1, kernel=rbf ....................................\n",
      "[CV] ..................... C=100, gamma=0.1, kernel=rbf, total=   0.0s\n",
      "[CV] C=100, gamma=0.5, kernel=rbf ....................................\n",
      "[CV] ..................... C=100, gamma=0.5, kernel=rbf, total=   0.0s\n",
      "[CV] C=100, gamma=0.5, kernel=rbf ....................................\n",
      "[CV] ..................... C=100, gamma=0.5, kernel=rbf, total=   0.0s\n",
      "[CV] C=100, gamma=0.5, kernel=rbf ....................................\n",
      "[CV] ..................... C=100, gamma=0.5, kernel=rbf, total=   0.0s\n",
      "[CV] C=100, gamma=0.5, kernel=rbf ....................................\n",
      "[CV] ..................... C=100, gamma=0.5, kernel=rbf, total=   0.0s\n",
      "[CV] C=100, gamma=0.5, kernel=rbf ....................................\n",
      "[CV] ..................... C=100, gamma=0.5, kernel=rbf, total=   0.0s\n",
      "[CV] C=100, gamma=1, kernel=rbf ......................................\n",
      "[CV] ....................... C=100, gamma=1, kernel=rbf, total=   0.0s\n",
      "[CV] C=100, gamma=1, kernel=rbf ......................................\n",
      "[CV] ....................... C=100, gamma=1, kernel=rbf, total=   0.0s\n",
      "[CV] C=100, gamma=1, kernel=rbf ......................................\n",
      "[CV] ....................... C=100, gamma=1, kernel=rbf, total=   0.0s\n",
      "[CV] C=100, gamma=1, kernel=rbf ......................................\n",
      "[CV] ....................... C=100, gamma=1, kernel=rbf, total=   0.0s\n",
      "[CV] C=100, gamma=1, kernel=rbf ......................................\n",
      "[CV] ....................... C=100, gamma=1, kernel=rbf, total=   0.0s\n"
     ]
    },
    {
     "name": "stderr",
     "output_type": "stream",
     "text": [
      "[Parallel(n_jobs=1)]: Done 100 out of 100 | elapsed:    1.5s finished\n"
     ]
    },
    {
     "data": {
      "text/plain": [
       "GridSearchCV(cv=5, estimator=SVR(),\n",
       "             param_grid=[{'C': [1, 3, 30, 100],\n",
       "                          'gamma': [0.01, 0.03, 0.1, 0.5, 1],\n",
       "                          'kernel': ['rbf']}],\n",
       "             verbose=2)"
      ]
     },
     "execution_count": 62,
     "metadata": {},
     "output_type": "execute_result"
    }
   ],
   "source": [
    "svr = SVR()\n",
    "grid = GridSearchCV(svr,param_grid, cv = 5, verbose = 2)\n",
    "grid.fit(X_train,y_train)"
   ]
  },
  {
   "cell_type": "code",
   "execution_count": 63,
   "metadata": {},
   "outputs": [
    {
     "name": "stdout",
     "output_type": "stream",
     "text": [
      "0.427535886831525\n",
      "{'C': 30, 'gamma': 0.01, 'kernel': 'rbf'}\n"
     ]
    }
   ],
   "source": [
    "# gridsearch 성능\n",
    "print(grid.best_score_)\n",
    "print(grid.best_params_)"
   ]
  },
  {
   "cell_type": "markdown",
   "metadata": {},
   "source": [
    "### GridSearchCV를 RandomizedSearchCV로 바꿔보세요."
   ]
  },
  {
   "cell_type": "code",
   "execution_count": null,
   "metadata": {},
   "outputs": [],
   "source": []
  },
  {
   "cell_type": "markdown",
   "metadata": {},
   "source": [
    "### 가장 중요한 특성을 선택하는 변환기를 준비 파이프라인으로 추가해보세요."
   ]
  },
  {
   "cell_type": "code",
   "execution_count": null,
   "metadata": {},
   "outputs": [],
   "source": []
  },
  {
   "cell_type": "markdown",
   "metadata": {},
   "source": [
    "### 전체 데이터 준비 과정과 최종 예측을 하나의 파이프라인으로 만들어보세요."
   ]
  },
  {
   "cell_type": "markdown",
   "metadata": {},
   "source": [
    "### GridSearchCV를 사용해 준비 단계의 옵션을 자동으로 탐색해보세요."
   ]
  }
 ],
 "metadata": {
  "kernelspec": {
   "display_name": "Python 3",
   "language": "python",
   "name": "python3"
  },
  "language_info": {
   "codemirror_mode": {
    "name": "ipython",
    "version": 3
   },
   "file_extension": ".py",
   "mimetype": "text/x-python",
   "name": "python",
   "nbconvert_exporter": "python",
   "pygments_lexer": "ipython3",
   "version": "3.8.5"
  }
 },
 "nbformat": 4,
 "nbformat_minor": 4
}
