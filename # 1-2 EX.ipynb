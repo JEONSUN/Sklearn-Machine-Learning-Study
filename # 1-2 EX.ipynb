{
 "cells": [
  {
   "cell_type": "markdown",
   "metadata": {},
   "source": [
    "### 머신러닝을 어떻게 정의할 수 있나요?\n",
    "\n",
    "데이터로부터 학습할 시스템을 만드는 것."
   ]
  },
  {
   "cell_type": "markdown",
   "metadata": {},
   "source": [
    "### 머신러닝이 도움을 줄 수 있는 문제 유형 네 가지?\n",
    "\n",
    "이미지 처리(CNN), 자연어 처리(NLP), 군집(Cluster), 예측(Regression)"
   ]
  },
  {
   "cell_type": "markdown",
   "metadata": {},
   "source": [
    "### 레이블된 훈련 세트란?\n",
    "\n",
    "- 각 샘플에 정답이 담겨져있는 훈련 세트"
   ]
  },
  {
   "cell_type": "markdown",
   "metadata": {},
   "source": [
    "### 가장 널리 사용되는 지도 학습 작업 두 가지?\n",
    "\n",
    "수치를 예측하는 회귀, 스팸인지 아닌지 구분하는 분류"
   ]
  },
  {
   "cell_type": "markdown",
   "metadata": {},
   "source": [
    "### 보편적인 비지도 학습 작업 네 가지는?\n",
    "\n",
    "시각화 : 패턴 파악에 용이\n",
    "\n",
    "군집 : 그룹화를 통해 분류\n",
    "\n",
    "차원 축소 : 데이터의 차원을 줄여 복잡도를 줄임\n",
    "\n",
    "연관 규칙 학습 : 대량의 데이터에서 특성간 관계 찾기"
   ]
  },
  {
   "cell_type": "markdown",
   "metadata": {},
   "source": [
    "### 사전 정보가 없는 여러 지형에서 로봇을 걸어가게 하려면 어떤 종류의 머신러닝 알고리즘을 사용할 수 있나요?\n",
    "\n",
    "강화 학습으로 환경을 관찰해서 행동하고 그 결과로 보상이나 벌점을 부여한다."
   ]
  },
  {
   "cell_type": "markdown",
   "metadata": {},
   "source": [
    "### 고객을 여러 그룹으로 분할하려면 어떤 알고리즘을 사용해야 하나요?\n",
    "\n",
    "그룹의 기준이 없으면 비지도 학습 기반인 군집 분석을 실시, 그룹의 종류가 무엇인지 안다면 지도학습기반 분류학습을 실시한다."
   ]
  },
  {
   "cell_type": "markdown",
   "metadata": {},
   "source": [
    "### 스팸 감지의 문제는 지도 학습과 비지도 학습 중 어떤 문제로 볼 수 있나요?\n",
    "\n",
    "스팸인지 아닌지를 파악하기 때문에 통상적으로 지도학습 문제에 포함한다."
   ]
  },
  {
   "cell_type": "markdown",
   "metadata": {},
   "source": [
    "### 온라인 학습 시스템이란?\n",
    "\n",
    "배치 학습 시스템 : 데이터를 순차적으로 한 개씩, 미니배치같은 작은 단위로 주입시켜 훈련시키는 시스템\n",
    "\n",
    "온라인 학습 시스템 : 연속적으로 데이터를 받고 자율 시스템에 빠르게 적응하여 많은 양의 데이터를 훈련시키는 시스템"
   ]
  },
  {
   "cell_type": "markdown",
   "metadata": {},
   "source": [
    "### 외부 메모리 학습이란?"
   ]
  },
  {
   "cell_type": "markdown",
   "metadata": {},
   "source": [
    "### 예측을 하기 위해 유사도 측정에 의존하는 학습 알고리즘은?"
   ]
  },
  {
   "cell_type": "markdown",
   "metadata": {},
   "source": [
    "### 모델 파라미터와 학습 알고리즘의 하이퍼파라미터 사이에는 어떤 차이가 있나요?"
   ]
  },
  {
   "cell_type": "markdown",
   "metadata": {},
   "source": [
    "### 모델 기반 알고리즘이 찾는 것은? 성공을 위해 이 알고리즘이 사용하는 가장 일반적인 전략은 무엇인가? 예측은 어떻게 만드는지?"
   ]
  },
  {
   "cell_type": "markdown",
   "metadata": {},
   "source": [
    "### 머신러닝의 주요 도전과제는 무엇인가?"
   ]
  },
  {
   "cell_type": "markdown",
   "metadata": {},
   "source": [
    "### 모델이 훈련 데이터에서의 성능은 좋지만 새로운 샘플에서의 일반화 성능이 나쁘다면 어떤 문제가 있는 건가? 가능한 해결책 3가지는?\n"
   ]
  },
  {
   "cell_type": "markdown",
   "metadata": {},
   "source": [
    "### 테스트 세트가 무엇이고 왜 사용하는가?"
   ]
  },
  {
   "cell_type": "markdown",
   "metadata": {},
   "source": [
    "### 검증 세트의 목적은?"
   ]
  },
  {
   "cell_type": "markdown",
   "metadata": {},
   "source": [
    "### 훈련 - 개발 세트가 무엇인가? 언제 필요하고 어떻게 사용해야 하는가?"
   ]
  },
  {
   "cell_type": "markdown",
   "metadata": {},
   "source": [
    "### 테스트 세트를 사용해 하이퍼파라미터를 튜닝하면 생기는 문제?"
   ]
  }
 ],
 "metadata": {
  "kernelspec": {
   "display_name": "Python 3",
   "language": "python",
   "name": "python3"
  },
  "language_info": {
   "codemirror_mode": {
    "name": "ipython",
    "version": 3
   },
   "file_extension": ".py",
   "mimetype": "text/x-python",
   "name": "python",
   "nbconvert_exporter": "python",
   "pygments_lexer": "ipython3",
   "version": "3.8.5"
  }
 },
 "nbformat": 4,
 "nbformat_minor": 4
}
