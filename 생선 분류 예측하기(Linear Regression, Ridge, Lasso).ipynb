{
 "cells": [
  {
   "cell_type": "markdown",
   "metadata": {},
   "source": [
    "## 선형회귀(Linear Regression)\n",
    "\n",
    "- 선형 회귀는 특성이 하나인 경우 그 특성을 가장 잘 나타낼 수 있는 직선을 학습하는 것이다.\n",
    "\n",
    "\n",
    "최근접 이웃 회귀에서 예측했던 농어의 무게 예측을 선형 회귀로 재차 진행했다."
   ]
  },
  {
   "cell_type": "code",
   "execution_count": 1,
   "metadata": {},
   "outputs": [],
   "source": [
    "import numpy as np\n",
    "import pandas as pd\n",
    "import matplotlib.pyplot as plt\n",
    "import seaborn as sns\n",
    "import warnings\n",
    "warnings.filterwarnings('ignore')"
   ]
  },
  {
   "cell_type": "code",
   "execution_count": 2,
   "metadata": {},
   "outputs": [],
   "source": [
    "data = pd.read_csv(\"./datasets/Fish.csv\", encoding = \"CP949\")"
   ]
  },
  {
   "cell_type": "code",
   "execution_count": 3,
   "metadata": {},
   "outputs": [],
   "source": [
    "data.columns = ['Species', 'Weight', 'Length1', 'Length2', 'Length3', 'Height',\n",
    "       'Width']"
   ]
  },
  {
   "cell_type": "code",
   "execution_count": 4,
   "metadata": {},
   "outputs": [],
   "source": [
    "perch_data = data[data['Species'] == 'Perch']"
   ]
  },
  {
   "cell_type": "code",
   "execution_count": 5,
   "metadata": {},
   "outputs": [],
   "source": [
    "perch_length = perch_data['Length2']\n",
    "perch_weight = perch_data['Weight']"
   ]
  },
  {
   "cell_type": "code",
   "execution_count": 6,
   "metadata": {},
   "outputs": [],
   "source": [
    "perch_data = data[data['Species'] == 'Perch']"
   ]
  },
  {
   "cell_type": "code",
   "execution_count": 7,
   "metadata": {},
   "outputs": [],
   "source": [
    "perch_length = perch_data['Length2']\n",
    "perch_weight = perch_data['Weight']"
   ]
  },
  {
   "cell_type": "code",
   "execution_count": 8,
   "metadata": {},
   "outputs": [],
   "source": [
    "from sklearn.model_selection import train_test_split\n",
    "x_train,x_test,y_train,y_test = train_test_split(perch_length, perch_weight, random_state = 42)"
   ]
  },
  {
   "cell_type": "code",
   "execution_count": 9,
   "metadata": {},
   "outputs": [
    {
     "name": "stdout",
     "output_type": "stream",
     "text": [
      "(42, 1)\n",
      "(14, 1)\n",
      "(42,)\n",
      "(14,)\n"
     ]
    }
   ],
   "source": [
    "x_train = np.array(x_train).reshape(-1,1)\n",
    "x_test = np.array(x_test).reshape(-1,1)\n",
    "print(x_train.shape)\n",
    "print(x_test.shape)\n",
    "print(y_train.shape)\n",
    "print(y_test.shape)"
   ]
  },
  {
   "cell_type": "code",
   "execution_count": 10,
   "metadata": {},
   "outputs": [
    {
     "data": {
      "text/plain": [
       "LinearRegression()"
      ]
     },
     "execution_count": 10,
     "metadata": {},
     "output_type": "execute_result"
    }
   ],
   "source": [
    "from sklearn.linear_model import LinearRegression\n",
    "lr = LinearRegression()\n",
    "lr.fit(x_train,y_train)"
   ]
  },
  {
   "cell_type": "code",
   "execution_count": 11,
   "metadata": {
    "scrolled": true
   },
   "outputs": [
    {
     "data": {
      "text/plain": [
       "array([1241.83860323])"
      ]
     },
     "execution_count": 11,
     "metadata": {},
     "output_type": "execute_result"
    }
   ],
   "source": [
    "# 50cm인 농어 무게 예측\n",
    "lr.predict([[50]])"
   ]
  },
  {
   "cell_type": "markdown",
   "metadata": {},
   "source": [
    "최근접 이웃 회귀의 결과 1033g와 달리 선형 회귀는 1241g로 예측했다\n",
    "\n",
    "\n",
    "선형 회귀는 $y = ax + b$의 식을 사용하며 이때, $a$는 기울기, $b$는 절편, $y$는 농어의 무게,  $x$는 농어의 길이를 의미한다."
   ]
  },
  {
   "cell_type": "code",
   "execution_count": 12,
   "metadata": {},
   "outputs": [
    {
     "name": "stdout",
     "output_type": "stream",
     "text": [
      "[39.01714496] -709.0186449535477\n"
     ]
    }
   ],
   "source": [
    "# 모델의 기울기와 절편\n",
    "print(lr.coef_, lr.intercept_)"
   ]
  },
  {
   "cell_type": "code",
   "execution_count": 13,
   "metadata": {
    "scrolled": false
   },
   "outputs": [
    {
     "data": {
      "image/png": "[encoded data removed]",
      "text/plain": [
       "<Figure size 1008x576 with 1 Axes>"
      ]
     },
     "metadata": {
      "needs_background": "light"
     },
     "output_type": "display_data"
    }
   ],
   "source": [
    "# 선형 회귀 직선\n",
    "plt.figure(figsize = (14,8))\n",
    "plt.scatter(x_train,y_train)\n",
    "plt.plot([15,50],[15*lr.coef_+lr.intercept_, 50*lr.coef_+lr.intercept_],c = 'r')\n",
    "plt.scatter(50,lr.predict([[50]]))\n",
    "plt.xlabel('length', fontsize = 14)\n",
    "plt.ylabel('weight', fontsize = 14)\n",
    "plt.show()"
   ]
  },
  {
   "cell_type": "code",
   "execution_count": 14,
   "metadata": {},
   "outputs": [
    {
     "name": "stdout",
     "output_type": "stream",
     "text": [
      "0.939846333997604\n",
      "0.8247503123313558\n"
     ]
    }
   ],
   "source": [
    "print(lr.score(x_train,y_train))\n",
    "print(lr.score(x_test,y_test))"
   ]
  },
  {
   "cell_type": "markdown",
   "metadata": {},
   "source": [
    "학습한 선형회귀는 train과 test의 점수차도 크고, 직선이나 데이터의 분포가 곡선임으로 잘 반영되었다고 보기 어렵다.\n",
    "\n",
    "데이터의 곡선을 반영해주기 위해 **다항 회귀**를 진행했다."
   ]
  },
  {
   "cell_type": "markdown",
   "metadata": {},
   "source": [
    "## 다항 회귀 진행\n",
    "\n",
    "- 다른 변수를 추가하기보단 농어의 길이를 제곱하여 새로운 열로 추가했다."
   ]
  },
  {
   "cell_type": "code",
   "execution_count": 15,
   "metadata": {},
   "outputs": [],
   "source": [
    "x_train = np.column_stack([x_train ** 2, x_train])\n",
    "x_test = np.column_stack([x_test ** 2, x_test])"
   ]
  },
  {
   "cell_type": "code",
   "execution_count": 16,
   "metadata": {},
   "outputs": [
    {
     "data": {
      "text/plain": [
       "LinearRegression()"
      ]
     },
     "execution_count": 16,
     "metadata": {},
     "output_type": "execute_result"
    }
   ],
   "source": [
    "lr = LinearRegression()\n",
    "lr.fit(x_train,y_train)"
   ]
  },
  {
   "cell_type": "code",
   "execution_count": 17,
   "metadata": {},
   "outputs": [
    {
     "data": {
      "text/plain": [
       "array([1573.98423528])"
      ]
     },
     "execution_count": 17,
     "metadata": {},
     "output_type": "execute_result"
    }
   ],
   "source": [
    "# 50cm인 농어 다항 회귀로 예측\n",
    "lr.predict([[50**2,50]])"
   ]
  },
  {
   "cell_type": "code",
   "execution_count": 18,
   "metadata": {},
   "outputs": [
    {
     "name": "stdout",
     "output_type": "stream",
     "text": [
      "[  1.01433211 -21.55792498] 116.05021078278259\n"
     ]
    }
   ],
   "source": [
    "# 기울기와 절편\n",
    "print(lr.coef_,lr.intercept_)"
   ]
  },
  {
   "cell_type": "code",
   "execution_count": 19,
   "metadata": {
    "scrolled": false
   },
   "outputs": [
    {
     "data": {
      "image/png": "[encoded data removed]",
      "text/plain": [
       "<Figure size 1008x576 with 1 Axes>"
      ]
     },
     "metadata": {
      "needs_background": "light"
     },
     "output_type": "display_data"
    }
   ],
   "source": [
    "point = np.arange(15,50)\n",
    "plt.figure(figsize = (14,8))\n",
    "plt.scatter(x_train[:,1],y_train)\n",
    "plt.plot(point,point**2*1.01-21.6*point+116.1, 'r')\n",
    "plt.scatter(50,1574, c = 'black')\n",
    "plt.xlabel('length', fontsize = 14)\n",
    "plt.ylabel('weight', fontsize = 14)\n",
    "plt.show()"
   ]
  },
  {
   "cell_type": "code",
   "execution_count": 20,
   "metadata": {},
   "outputs": [
    {
     "name": "stdout",
     "output_type": "stream",
     "text": [
      "0.9706807451768623\n",
      "0.9775935108325121\n"
     ]
    }
   ],
   "source": [
    "print(lr.score(x_train,y_train))\n",
    "print(lr.score(x_test,y_test))"
   ]
  },
  {
   "cell_type": "markdown",
   "metadata": {},
   "source": [
    "이전보다 점수는 높아졌지만 train보다 test의 점수가 높은 과소적합을 의심해 볼 수 있다. 좀 더 복잡한 모델을 만들어 볼 필요가 있음을 느꼈다."
   ]
  },
  {
   "cell_type": "markdown",
   "metadata": {},
   "source": [
    "## 다중 회귀\n",
    "\n",
    "- 생선의 길이만 사용하는 것이 아닌 높이(Height)와 두께(Width)를 추가한 다중 회귀 모델을 만들어 무게 예측을 진행했다."
   ]
  },
  {
   "cell_type": "code",
   "execution_count": 21,
   "metadata": {},
   "outputs": [],
   "source": [
    "perch_train = perch_data[['Length2','Height','Width']]\n",
    "perch_target = perch_data[['Weight']]"
   ]
  },
  {
   "cell_type": "code",
   "execution_count": 22,
   "metadata": {},
   "outputs": [],
   "source": [
    "# 넘파이 배열로 변환\n",
    "perch_train = perch_train.to_numpy()\n",
    "perch_target = perch_target.to_numpy()"
   ]
  },
  {
   "cell_type": "code",
   "execution_count": 23,
   "metadata": {},
   "outputs": [],
   "source": [
    "from sklearn.model_selection import train_test_split\n",
    "x_train,x_test,y_train,y_test = train_test_split(perch_train,perch_target, random_state = 42)"
   ]
  },
  {
   "cell_type": "code",
   "execution_count": 24,
   "metadata": {},
   "outputs": [
    {
     "name": "stdout",
     "output_type": "stream",
     "text": [
      "(42, 3)\n",
      "(14, 3)\n",
      "(42, 1)\n",
      "(14, 1)\n"
     ]
    }
   ],
   "source": [
    "print(x_train.shape)\n",
    "print(x_test.shape)\n",
    "print(y_train.shape)\n",
    "print(y_test.shape)"
   ]
  },
  {
   "cell_type": "markdown",
   "metadata": {},
   "source": [
    "### 다항회귀와 다중회귀의 차이\n",
    "\n",
    "\n",
    "- 다중회귀: 다수의 독립변수가 있는 형태, 다중공선성 문제를 중요하게 봐야함.<br>\n",
    "$y = b_0 + b_1x_1 + b_2x_2 +...+b_nx_n$\n",
    "<br><Br>\n",
    "- 다항회귀: 독립변수의 차수를 높이는 형태<br>\n",
    "$y = w_0 + w_1x + w_2x^2 +...+w_dx^d$"
   ]
  },
  {
   "cell_type": "code",
   "execution_count": 25,
   "metadata": {},
   "outputs": [
    {
     "name": "stdout",
     "output_type": "stream",
     "text": [
      "[[1. 2. 3. 4. 6. 9.]]\n"
     ]
    }
   ],
   "source": [
    "# 다항회귀 변환\n",
    "from sklearn.preprocessing import PolynomialFeatures\n",
    "\n",
    "poly = PolynomialFeatures()\n",
    "poly.fit([[2,3]])\n",
    "print(poly.transform([[2,3]]))"
   ]
  },
  {
   "cell_type": "markdown",
   "metadata": {},
   "source": [
    "- 2,3의 특성을 가진 샘플의 특성이 6개로 변환\n",
    "\n",
    "2와 3의 제곱 4,9 추가, 2*3인 6 특성 추가, 1은 절편이므로 결국 길이,높이, 두께,1이 특성이 된다. 그러나 선형 모델은 자동으로 절편을 추가하기에 굳이 절편을 특성으로 만들 필요가 없다. (include_bias = FALSE)옵션을 추가하면 절편 항 생성을 무시한다"
   ]
  },
  {
   "cell_type": "code",
   "execution_count": 26,
   "metadata": {},
   "outputs": [
    {
     "name": "stdout",
     "output_type": "stream",
     "text": [
      "생성된 특성 개수 : (42, 9)\n"
     ]
    }
   ],
   "source": [
    "poly = PolynomialFeatures(include_bias = False)\n",
    "poly.fit(x_train)\n",
    "train_poly = poly.transform(x_train)\n",
    "print(\"생성된 특성 개수 :\",train_poly.shape)"
   ]
  },
  {
   "cell_type": "code",
   "execution_count": 27,
   "metadata": {},
   "outputs": [
    {
     "data": {
      "text/plain": [
       "['x0', 'x1', 'x2', 'x0^2', 'x0 x1', 'x0 x2', 'x1^2', 'x1 x2', 'x2^2']"
      ]
     },
     "execution_count": 27,
     "metadata": {},
     "output_type": "execute_result"
    }
   ],
   "source": [
    "# 생성된 특성 9개\n",
    "# x0 : 첫번째 특성, x0^2: 첫번째 특성의 제곱, x0x1: 첫 번째 두 번째 특성의 곱\n",
    "poly.get_feature_names()"
   ]
  },
  {
   "cell_type": "code",
   "execution_count": 28,
   "metadata": {},
   "outputs": [],
   "source": [
    "test_poly = poly.transform(x_test)"
   ]
  },
  {
   "cell_type": "code",
   "execution_count": 29,
   "metadata": {},
   "outputs": [
    {
     "data": {
      "text/plain": [
       "LinearRegression()"
      ]
     },
     "execution_count": 29,
     "metadata": {},
     "output_type": "execute_result"
    }
   ],
   "source": [
    "### 다중회귀 모델 훈련\n",
    "from sklearn.linear_model import LinearRegression\n",
    "lr = LinearRegression()\n",
    "lr.fit(train_poly,y_train)"
   ]
  },
  {
   "cell_type": "code",
   "execution_count": 30,
   "metadata": {},
   "outputs": [
    {
     "name": "stdout",
     "output_type": "stream",
     "text": [
      "0.9903557670312702\n",
      "0.9712376207461861\n"
     ]
    }
   ],
   "source": [
    "print(lr.score(train_poly, y_train))\n",
    "print(lr.score(test_poly, y_test))"
   ]
  },
  {
   "cell_type": "markdown",
   "metadata": {},
   "source": [
    "test는 차이가 없지만 train은 다중 회귀보다 높은 설명력을 보였다. 과소적합 문제도 이전보단 덜 하다.\n",
    "\n",
    "제곱 항을 좀 더 추가해서 결과를 확인해본다."
   ]
  },
  {
   "cell_type": "code",
   "execution_count": 31,
   "metadata": {},
   "outputs": [
    {
     "name": "stdout",
     "output_type": "stream",
     "text": [
      "----------------\n",
      "생성된 특성 개수: (42, 19)\n",
      "train 데이터 설명력 : 0.9963988305355984\n",
      "test 데이터 설명력: 0.9424955718448528\n",
      "----------------\n",
      "----------------\n",
      "생성된 특성 개수: (42, 34)\n",
      "train 데이터 설명력 : 0.9995466835085437\n",
      "test 데이터 설명력: -6.92630084052\n",
      "----------------\n",
      "----------------\n",
      "생성된 특성 개수: (42, 55)\n",
      "train 데이터 설명력 : 0.9999999999986519\n",
      "test 데이터 설명력: -129.8791540807646\n",
      "----------------\n"
     ]
    }
   ],
   "source": [
    "# 3제곱항 다항회귀, 최대 5제곱까지 가능 \n",
    "for i in range(3,6) :\n",
    "    poly = PolynomialFeatures(degree = i, include_bias = False)\n",
    "    poly.fit(x_train)\n",
    "    train_poly = poly.transform(x_train)\n",
    "    test_poly = poly.transform(x_test)\n",
    "    print(\"----------------\")\n",
    "    print(\"생성된 특성 개수:\",train_poly.shape)\n",
    "    lr.fit(train_poly, y_train)\n",
    "    print(\"train 데이터 설명력 :\",lr.score(train_poly, y_train))\n",
    "    print(\"test 데이터 설명력:\",lr.score(test_poly,y_test))\n",
    "    print(\"----------------\")"
   ]
  },
  {
   "cell_type": "markdown",
   "metadata": {},
   "source": [
    "제곱항을 늘리면 늘릴수록 test 셋의 점수는 음수까지 낮아졌다. <br>\n",
    "**샘플보다 특성의 개수가 더 많아서 그럴 것: train 데이터에 과대 적합되어 test 데이터에 일반화가 불가피함**<Br>\n",
    "\n",
    "회귀 모형에 규제를 실시"
   ]
  },
  {
   "cell_type": "markdown",
   "metadata": {},
   "source": [
    "## 규제\n",
    "\n",
    "- 머신러닝 모델이 train 세트를 너무 과도하게 학습하지 못하도록 규제를 걸 수 있다.(모델이 train에 과대적합되지 않도록 만든다.)\n",
    "\n",
    "\n",
    "#### 규제를 넣은 회귀 모델\n",
    "***\n",
    "1. 릿지\n",
    "\n",
    "2. 랏쏘\n",
    "\n",
    "3. 엘라스틱넷\n",
    "\n",
    "규제는 비용함수에 계산되는 값이기 때문에 입력 특성의 스케일이 다르면 제어값도 달라진다. 따라서 규제를 적용할 때는 정규화를 진행하고 적용한다. "
   ]
  },
  {
   "cell_type": "code",
   "execution_count": 32,
   "metadata": {},
   "outputs": [],
   "source": [
    "# 정규화 진행 (mean, std 사용)\n",
    "from sklearn.preprocessing import StandardScaler\n",
    "standard = StandardScaler()\n",
    "standard.fit(train_poly)\n",
    "train_scaled = standard.transform(train_poly)\n",
    "test_scaled = standard.transform(test_poly)"
   ]
  },
  {
   "cell_type": "markdown",
   "metadata": {},
   "source": [
    "## 릿지 회귀\n",
    "\n",
    "- 비용함수에 $a \\sum_{i=1}^n\\theta_{i=1}^2$를 추가한다.\n",
    "\n",
    "<center>릿지 회귀의 비용함수\n",
    "$$J(\\theta) = MSE(\\theta) + a \\sum_{i=1}^n\\theta_{i=1}^2$$\n",
    "    \n",
    "\n",
    "<center>$\\alpha$ 가 0일 경우 이전의 선형 회귀와 같은 모델이 된다.<br>\n",
    "    L2-norm = 최소제곱오차(LSE): 목표값과 추정값 사이의 차의 제곱의 합을 최소화."
   ]
  },
  {
   "cell_type": "code",
   "execution_count": 33,
   "metadata": {},
   "outputs": [
    {
     "name": "stdout",
     "output_type": "stream",
     "text": [
      "(42, 55) (14, 55)\n",
      "train 릿지 회귀 설명력: 0.9896217956447124\n",
      "test 릿지 회귀 설명력: 0.9788853860988022\n"
     ]
    }
   ],
   "source": [
    "# 표준화 시킨 데이터에 릿지 회귀 적용\n",
    "print(train_scaled.shape, test_scaled.shape)\n",
    "\n",
    "from sklearn.linear_model import Ridge\n",
    "ridge = Ridge()\n",
    "ridge.fit(train_scaled, y_train)\n",
    "print(\"train 릿지 회귀 설명력:\",ridge.score(train_scaled,y_train))\n",
    "print(\"test 릿지 회귀 설명력:\",ridge.score(test_scaled,y_test))"
   ]
  },
  {
   "cell_type": "markdown",
   "metadata": {},
   "source": [
    "특성 수를 55개임에도 불구하고 test 점수가 정상 범위로 돌아왔다. \n",
    "\n",
    "릿지와 라쏘는 규제의 양을 임의로 조절이 가능하며(하이퍼파라미터는 alpha) **alpha값이 크면** 규제 강도가 세지므로 계수 값을 더 줄이고 조금 더 과소적합되도록 유도한다.\n",
    "\n",
    "**alpha 값이 작으면** 계수를 줄이는 역할이 줄어들고 선형 회귀 모델과 유사해지기때문에 과대적합될 가능성이 올라간다."
   ]
  },
  {
   "cell_type": "code",
   "execution_count": 34,
   "metadata": {},
   "outputs": [],
   "source": [
    "# alpha(규제) 값에 따른 회귀 성능 변화\n",
    "params = [0.001,0.01,0.1,1,10,100]\n",
    "train_score = []\n",
    "test_score = []\n",
    "\n",
    "for i in params :\n",
    "    ridge = Ridge(alpha = i)\n",
    "    ridge.fit(train_scaled,y_train)\n",
    "    train_score.append(ridge.score(train_scaled, y_train))\n",
    "    test_score.append(ridge.score(test_scaled,y_test))"
   ]
  },
  {
   "cell_type": "code",
   "execution_count": 35,
   "metadata": {},
   "outputs": [
    {
     "data": {
      "text/plain": [
       "[0.9560293715515176,\n",
       " 0.9796497117192821,\n",
       " 0.9826465162736724,\n",
       " 0.9788853860988022,\n",
       " 0.9722857046398282,\n",
       " 0.9624191421271444]"
      ]
     },
     "execution_count": 35,
     "metadata": {},
     "output_type": "execute_result"
    }
   ],
   "source": [
    "test_score"
   ]
  },
  {
   "cell_type": "code",
   "execution_count": 36,
   "metadata": {},
   "outputs": [
    {
     "data": {
      "image/png": "[encoded data removed]",
      "text/plain": [
       "<Figure size 864x432 with 1 Axes>"
      ]
     },
     "metadata": {
      "needs_background": "light"
     },
     "output_type": "display_data"
    }
   ],
   "source": [
    "plt.figure(figsize = (12,6))\n",
    "plt.plot(train_score, label = 'train_score')\n",
    "plt.plot(test_score, label = 'test_score')\n",
    "plt.legend()\n",
    "plt.show()"
   ]
  },
  {
   "cell_type": "markdown",
   "metadata": {},
   "source": [
    "alpha가 너무 낮은 경우 train 점수는 높으나 test 점수가 낮게 나오는 과대적합을 보이며<br>\n",
    "alpha가 너무 큰 경우 train 점수와 test 점수가 동시에 낮아지는 과소적합을 보인다.\n",
    "\n",
    "**결론** : 0.01일 때의 간격이 가장 작기 때문에 alpha의 계수는 0.1로 채택"
   ]
  },
  {
   "cell_type": "markdown",
   "metadata": {},
   "source": [
    "## 라쏘 회귀\n",
    "\n",
    "<center>릿지 회귀의 비용함수\n",
    "$$J(\\theta) = MSE(\\theta) + a \\sum_{i=1}^n|\\theta_{i}|$$\n",
    "    \n",
    "\n",
    "<center>$\\alpha$ 가 0일 경우 이전의 선형 회귀와 같은 모델이 된다.<br>\n",
    "    L1-norm = 최소절대오차(LAE): 목표값과 추정값 사이의 차의 절댓값의 합을 최소화."
   ]
  },
  {
   "cell_type": "code",
   "execution_count": 37,
   "metadata": {},
   "outputs": [],
   "source": [
    "# 릿지와 마찬가지로 alpha를 통해 규제 진행\n",
    "params = [0.001,0.01,0.1,1,10,100]\n",
    "train_score = []\n",
    "test_score = []\n",
    "minus = []\n",
    "\n",
    "from sklearn.linear_model import Lasso\n",
    "for i in params :\n",
    "    lasso = Lasso(alpha = i)\n",
    "    lasso.fit(train_scaled,y_train)\n",
    "    train_score.append(lasso.score(train_scaled, y_train))\n",
    "    test_score.append(lasso.score(test_scaled,y_test))\n",
    "    minus.append(lasso.score(train_scaled, y_train) - lasso.score(test_scaled,y_test))"
   ]
  },
  {
   "cell_type": "code",
   "execution_count": 38,
   "metadata": {},
   "outputs": [
    {
     "data": {
      "image/png": "[encoded data removed]",
      "text/plain": [
       "<Figure size 1440x432 with 2 Axes>"
      ]
     },
     "metadata": {
      "needs_background": "light"
     },
     "output_type": "display_data"
    }
   ],
   "source": [
    "plt.figure(figsize = (20,6))\n",
    "plt.subplot(1,2,1)\n",
    "plt.plot(train_score, label = 'train_score')\n",
    "plt.plot(test_score, label = 'test_score')\n",
    "plt.legend()\n",
    "plt.subplot(1,2,2)\n",
    "plt.plot(minus)\n",
    "plt.show()"
   ]
  },
  {
   "cell_type": "markdown",
   "metadata": {},
   "source": [
    "왼쪽 그래프를 보면 alpha가 작을수록 과대적합, 오른쪽으로 갈수록 간격이 좁혀진다 그러나 가장 오른쪽은 점수가 급격하게 낮아지므로 과소적합을 의심해볼 수 있다.\n",
    "\n",
    "간격이 가장 좁고 점수도 잘 보존하는 alpha = 10을 최적 alpha값으로 지정했다."
   ]
  },
  {
   "cell_type": "code",
   "execution_count": 39,
   "metadata": {},
   "outputs": [],
   "source": [
    "lasso = Lasso(alpha = 10)\n",
    "lasso.fit(train_scaled,y_train)\n",
    "train_score.append(lasso.score(train_scaled, y_train))\n",
    "test_score.append(lasso.score(test_scaled,y_test))"
   ]
  },
  {
   "cell_type": "markdown",
   "metadata": {},
   "source": [
    "규제 회귀는 계수 크기를 줄이는데 목적으로 두지만 라쏘는 계수 값을 아예 0으로 만들 수 있다."
   ]
  },
  {
   "cell_type": "code",
   "execution_count": 40,
   "metadata": {
    "scrolled": true
   },
   "outputs": [
    {
     "data": {
      "text/plain": [
       "40"
      ]
     },
     "execution_count": 40,
     "metadata": {},
     "output_type": "execute_result"
    }
   ],
   "source": [
    "# 회귀 계수를 0으로 만든 특성 개수\n",
    "np.sum(lasso.coef_ == 0)"
   ]
  },
  {
   "cell_type": "markdown",
   "metadata": {},
   "source": [
    "라쏘 회귀는 특성 15개만 활용하여 결과를 만들었다."
   ]
  },
  {
   "cell_type": "code",
   "execution_count": 41,
   "metadata": {
    "scrolled": false
   },
   "outputs": [
    {
     "data": {
      "image/png": "[encoded data removed]",
      "text/plain": [
       "<Figure size 864x432 with 1 Axes>"
      ]
     },
     "metadata": {
      "needs_background": "light"
     },
     "output_type": "display_data"
    }
   ],
   "source": [
    "plt.figure(figsize = (12,6))\n",
    "y_pred = lasso.predict(test_scaled)\n",
    "plt.plot(y_pred, label = 'predict')\n",
    "plt.plot(y_test, label = 'test data')\n",
    "plt.ylabel(\"Weight\")\n",
    "plt.legend()\n",
    "plt.show()"
   ]
  },
  {
   "cell_type": "markdown",
   "metadata": {},
   "source": [
    "농어 무게를 test data와 근사하게 예측했다"
   ]
  }
 ],
 "metadata": {
  "kernelspec": {
   "display_name": "Python 3",
   "language": "python",
   "name": "python3"
  },
  "language_info": {
   "codemirror_mode": {
    "name": "ipython",
    "version": 3
   },
   "file_extension": ".py",
   "mimetype": "text/x-python",
   "name": "python",
   "nbconvert_exporter": "python",
   "pygments_lexer": "ipython3",
   "version": "3.8.5"
  }
 },
 "nbformat": 4,
 "nbformat_minor": 4
}
