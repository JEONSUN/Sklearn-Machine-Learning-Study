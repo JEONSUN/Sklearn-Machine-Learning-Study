{
 "cells": [
  {
   "cell_type": "markdown",
   "metadata": {},
   "source": [
    "## 생선 분류하기\n",
    "\n",
    "- 도미(Bream), 빙어(smelt) 구분해내기"
   ]
  },
  {
   "cell_type": "code",
   "execution_count": 1,
   "metadata": {},
   "outputs": [],
   "source": [
    "import numpy as np\n",
    "import pandas as pd\n",
    "import matplotlib.pyplot as plt\n",
    "import seaborn as sns\n",
    "import warnings\n",
    "warnings.filterwarnings('ignore')"
   ]
  },
  {
   "cell_type": "code",
   "execution_count": 2,
   "metadata": {},
   "outputs": [],
   "source": [
    "data = pd.read_csv(\"./datasets/Fish.csv\", encoding = \"CP949\")"
   ]
  },
  {
   "cell_type": "code",
   "execution_count": 3,
   "metadata": {},
   "outputs": [],
   "source": [
    "data.columns = ['Species', 'Weight', 'Length1', 'Length2', 'Length3', 'Height',\n",
    "       'Width']"
   ]
  },
  {
   "cell_type": "code",
   "execution_count": 4,
   "metadata": {},
   "outputs": [
    {
     "data": {
      "text/html": [
       "<div>\n",
       "<style scoped>\n",
       "    .dataframe tbody tr th:only-of-type {\n",
       "        vertical-align: middle;\n",
       "    }\n",
       "\n",
       "    .dataframe tbody tr th {\n",
       "        vertical-align: top;\n",
       "    }\n",
       "\n",
       "    .dataframe thead th {\n",
       "        text-align: right;\n",
       "    }\n",
       "</style>\n",
       "<table border=\"1\" class=\"dataframe\">\n",
       "  <thead>\n",
       "    <tr style=\"text-align: right;\">\n",
       "      <th></th>\n",
       "      <th>Species</th>\n",
       "      <th>Weight</th>\n",
       "      <th>Length1</th>\n",
       "      <th>Length2</th>\n",
       "      <th>Length3</th>\n",
       "      <th>Height</th>\n",
       "      <th>Width</th>\n",
       "    </tr>\n",
       "  </thead>\n",
       "  <tbody>\n",
       "    <tr>\n",
       "      <th>0</th>\n",
       "      <td>Bream</td>\n",
       "      <td>242.0</td>\n",
       "      <td>23.2</td>\n",
       "      <td>25.4</td>\n",
       "      <td>30.0</td>\n",
       "      <td>11.5200</td>\n",
       "      <td>4.0200</td>\n",
       "    </tr>\n",
       "    <tr>\n",
       "      <th>1</th>\n",
       "      <td>Bream</td>\n",
       "      <td>290.0</td>\n",
       "      <td>24.0</td>\n",
       "      <td>26.3</td>\n",
       "      <td>31.2</td>\n",
       "      <td>12.4800</td>\n",
       "      <td>4.3056</td>\n",
       "    </tr>\n",
       "    <tr>\n",
       "      <th>2</th>\n",
       "      <td>Bream</td>\n",
       "      <td>340.0</td>\n",
       "      <td>23.9</td>\n",
       "      <td>26.5</td>\n",
       "      <td>31.1</td>\n",
       "      <td>12.3778</td>\n",
       "      <td>4.6961</td>\n",
       "    </tr>\n",
       "    <tr>\n",
       "      <th>3</th>\n",
       "      <td>Bream</td>\n",
       "      <td>363.0</td>\n",
       "      <td>26.3</td>\n",
       "      <td>29.0</td>\n",
       "      <td>33.5</td>\n",
       "      <td>12.7300</td>\n",
       "      <td>4.4555</td>\n",
       "    </tr>\n",
       "    <tr>\n",
       "      <th>4</th>\n",
       "      <td>Bream</td>\n",
       "      <td>430.0</td>\n",
       "      <td>26.5</td>\n",
       "      <td>29.0</td>\n",
       "      <td>34.0</td>\n",
       "      <td>12.4440</td>\n",
       "      <td>5.1340</td>\n",
       "    </tr>\n",
       "  </tbody>\n",
       "</table>\n",
       "</div>"
      ],
      "text/plain": [
       "  Species  Weight  Length1  Length2  Length3   Height   Width\n",
       "0   Bream   242.0     23.2     25.4     30.0  11.5200  4.0200\n",
       "1   Bream   290.0     24.0     26.3     31.2  12.4800  4.3056\n",
       "2   Bream   340.0     23.9     26.5     31.1  12.3778  4.6961\n",
       "3   Bream   363.0     26.3     29.0     33.5  12.7300  4.4555\n",
       "4   Bream   430.0     26.5     29.0     34.0  12.4440  5.1340"
      ]
     },
     "execution_count": 4,
     "metadata": {},
     "output_type": "execute_result"
    }
   ],
   "source": [
    "data.head()"
   ]
  },
  {
   "cell_type": "code",
   "execution_count": 5,
   "metadata": {},
   "outputs": [
    {
     "data": {
      "text/plain": [
       "array(['Bream', 'Parkki', 'Perch', 'Pike', 'Roach', 'Smelt', 'Whitefish'],\n",
       "      dtype=object)"
      ]
     },
     "execution_count": 5,
     "metadata": {},
     "output_type": "execute_result"
    }
   ],
   "source": [
    "np.unique(data['Species'])"
   ]
  },
  {
   "cell_type": "markdown",
   "metadata": {},
   "source": [
    "### 도미와 빙어 데이터만 분리"
   ]
  },
  {
   "cell_type": "code",
   "execution_count": 6,
   "metadata": {},
   "outputs": [],
   "source": [
    "Bream_data = data[data['Species'] == 'Bream']\n",
    "Smelt_data = data[data['Species'] == 'Smelt']"
   ]
  },
  {
   "cell_type": "code",
   "execution_count": 7,
   "metadata": {},
   "outputs": [],
   "source": [
    "# 도미 길이와 너비\n",
    "bream_weight = Bream_data['Weight'].tolist()\n",
    "bream_length = Bream_data['Length2'].tolist()\n",
    "\n",
    "# 빙어 길이와 너비\n",
    "smelt_weight = Smelt_data['Weight'].tolist()\n",
    "smelt_length = Smelt_data['Length2'].tolist()"
   ]
  },
  {
   "cell_type": "code",
   "execution_count": 8,
   "metadata": {
    "scrolled": false
   },
   "outputs": [
    {
     "data": {
      "image/png": "[encoded data removed]",
      "text/plain": [
       "<Figure size 720x432 with 1 Axes>"
      ]
     },
     "metadata": {
      "needs_background": "light"
     },
     "output_type": "display_data"
    }
   ],
   "source": [
    "plt.figure(figsize = (10,6))\n",
    "plt.scatter(bream_length, bream_weight, label = 'bream')\n",
    "plt.scatter(smelt_length, smelt_weight, label = 'smelt')\n",
    "plt.xlabel('length', fontsize = 14)\n",
    "plt.ylabel('weight', fontsize = 14)\n",
    "plt.legend()\n",
    "plt.show()"
   ]
  },
  {
   "cell_type": "markdown",
   "metadata": {},
   "source": [
    "도미와 빙어는 선형적인 데이터. 대신 도미는 빙어에 비해 무게와 길이가 높다."
   ]
  },
  {
   "cell_type": "markdown",
   "metadata": {},
   "source": [
    "## KNN 최근접 이웃\n",
    "\n",
    "- 새로운 데이터에 대해 예측할 때는 가장 가까운 직선거리에 어떤 데이터가 있는지를 살피기만 하면 된다.\n",
    "\n",
    "- 다만, 이러한 점으로 인해 데이터가 아주 많은 경우, 많은 메모리가 강요되며 직선거리를 계산하는 데도 많은 시간이 필요하다."
   ]
  },
  {
   "cell_type": "code",
   "execution_count": 9,
   "metadata": {},
   "outputs": [],
   "source": [
    "# 2가지 데이터를 하나의 리스트로\n",
    "length = bream_length + smelt_length\n",
    "weight = bream_weight + smelt_weight"
   ]
  },
  {
   "cell_type": "code",
   "execution_count": 10,
   "metadata": {},
   "outputs": [],
   "source": [
    "# 2개의 리스트를 2차원 리스트로\n",
    "fish_data = [[l,w] for l,w in zip(length,weight)]"
   ]
  },
  {
   "cell_type": "code",
   "execution_count": 11,
   "metadata": {
    "scrolled": true
   },
   "outputs": [
    {
     "name": "stdout",
     "output_type": "stream",
     "text": [
      "[[25.4, 242.0], [26.3, 290.0], [26.5, 340.0], [29.0, 363.0], [29.0, 430.0], [29.7, 450.0], [29.7, 500.0], [30.0, 390.0], [30.0, 450.0], [30.7, 500.0], [31.0, 475.0], [31.0, 500.0], [31.5, 500.0], [32.0, 340.0], [32.0, 600.0], [32.0, 600.0], [33.0, 700.0], [33.0, 700.0], [33.5, 610.0], [33.5, 650.0], [34.0, 575.0], [34.0, 685.0], [34.5, 620.0], [35.0, 680.0], [35.0, 700.0], [35.0, 725.0], [35.0, 720.0], [36.0, 714.0], [36.0, 850.0], [37.0, 1000.0], [38.5, 920.0], [38.5, 955.0], [39.5, 925.0], [41.0, 975.0], [41.0, 950.0], [9.8, 6.7], [10.5, 7.5], [10.6, 7.0], [11.0, 9.7], [11.2, 9.8], [11.3, 8.7], [11.8, 10.0], [11.8, 9.9], [12.0, 9.8], [12.2, 12.2], [12.4, 13.4], [13.0, 12.2], [14.3, 19.7], [15.0, 19.9]]\n"
     ]
    }
   ],
   "source": [
    "print(fish_data)"
   ]
  },
  {
   "cell_type": "markdown",
   "metadata": {},
   "source": [
    "np.column_stack을 사용해도 된다."
   ]
  },
  {
   "cell_type": "code",
   "execution_count": 12,
   "metadata": {},
   "outputs": [
    {
     "name": "stdout",
     "output_type": "stream",
     "text": [
      "[1, 1, 1, 1, 1, 1, 1, 1, 1, 1, 1, 1, 1, 1, 1, 1, 1, 1, 1, 1, 1, 1, 1, 1, 1, 1, 1, 1, 1, 1, 1, 1, 1, 1, 1, 0, 0, 0, 0, 0, 0, 0, 0, 0, 0, 0, 0, 0, 0]\n"
     ]
    }
   ],
   "source": [
    "# 1 : 도미, 0 : 빙어\n",
    "fish_target = [1] * 35 + [0] * 14\n",
    "print(fish_target)"
   ]
  },
  {
   "cell_type": "markdown",
   "metadata": {},
   "source": [
    "np.concatenate((np.ones(35),np.zeros(14))를 사용해도 된다.\n",
    "\n",
    "np.column_stack : 리스트 2개를 각각의 열로 <br>\n",
    "np.concatenate : 리스트 2개를 하나의 행으로"
   ]
  },
  {
   "cell_type": "code",
   "execution_count": 13,
   "metadata": {},
   "outputs": [
    {
     "data": {
      "text/plain": [
       "1.0"
      ]
     },
     "execution_count": 13,
     "metadata": {},
     "output_type": "execute_result"
    }
   ],
   "source": [
    "from sklearn.neighbors import KNeighborsClassifier\n",
    "\n",
    "kn = KNeighborsClassifier()\n",
    "# 모델 훈련\n",
    "kn.fit(fish_data, fish_target)\n",
    "# 모델 점수\n",
    "kn.score(fish_data, fish_target)"
   ]
  },
  {
   "cell_type": "code",
   "execution_count": 14,
   "metadata": {},
   "outputs": [
    {
     "data": {
      "image/png": "[encoded data removed]",
      "text/plain": [
       "<Figure size 720x432 with 1 Axes>"
      ]
     },
     "metadata": {
      "needs_background": "light"
     },
     "output_type": "display_data"
    },
    {
     "name": "stdout",
     "output_type": "stream",
     "text": [
      "해당 품종은 : [1]\n"
     ]
    }
   ],
   "source": [
    "plt.figure(figsize = (10,6))\n",
    "plt.scatter(bream_length, bream_weight, label = 'bream')\n",
    "plt.scatter(smelt_length, smelt_weight, label = 'smelt')\n",
    "plt.scatter(30,600, c = 'r',s = 100, label  = '???')\n",
    "plt.xlabel('length', fontsize = 14)\n",
    "plt.ylabel('weight', fontsize = 14)\n",
    "plt.legend()\n",
    "plt.show()\n",
    "\n",
    "\n",
    "print(\"해당 품종은 :\", kn.predict([[30,600]]))"
   ]
  },
  {
   "cell_type": "markdown",
   "metadata": {},
   "source": [
    "앞선 모델은 정확도가 1이 나왔으나, 해당 모델을 바로 사용하기엔 어려움이 있다. 학습한 데이터를 그대로 모델 성능 평가에 사용했기 때문이다. \n",
    "\n",
    "train, test로 분리해서 훈련해보자"
   ]
  },
  {
   "cell_type": "code",
   "execution_count": 15,
   "metadata": {},
   "outputs": [],
   "source": [
    "train_data = fish_data[:35]\n",
    "train_target = fish_target[:35]\n",
    "test_data = fish_data[35:]\n",
    "test_target = fish_target[35:]"
   ]
  },
  {
   "cell_type": "code",
   "execution_count": 16,
   "metadata": {},
   "outputs": [
    {
     "data": {
      "text/plain": [
       "KNeighborsClassifier()"
      ]
     },
     "execution_count": 16,
     "metadata": {},
     "output_type": "execute_result"
    }
   ],
   "source": [
    "kn = KNeighborsClassifier()\n",
    "kn.fit(train_data,train_target)"
   ]
  },
  {
   "cell_type": "code",
   "execution_count": 17,
   "metadata": {},
   "outputs": [
    {
     "data": {
      "text/plain": [
       "0.0"
      ]
     },
     "execution_count": 17,
     "metadata": {},
     "output_type": "execute_result"
    }
   ],
   "source": [
    "kn.score(test_data, test_target)"
   ]
  },
  {
   "cell_type": "markdown",
   "metadata": {},
   "source": [
    "#### test 데이터를 훈련시켜본 결과 정확도가 0점이 나왔다\n",
    "\n",
    "- 빙어와 도미가 train 데이터에 골고루 섞여있어야하는데 train 데이터에는 빙어만 들어가있기때문\n",
    "> train, test데이터에 샘플이 골고루 섞여있지 않을 경우 샘플링이 한쪽으로 치우쳤다는 의미로 **샘플링 편향**이라고 함."
   ]
  },
  {
   "cell_type": "code",
   "execution_count": 18,
   "metadata": {},
   "outputs": [],
   "source": [
    "from sklearn.model_selection import train_test_split\n",
    "x_train,x_test,y_train,y_test = train_test_split(fish_data, fish_target, random_state = 42 , test_size = 0.25)"
   ]
  },
  {
   "cell_type": "code",
   "execution_count": 19,
   "metadata": {},
   "outputs": [
    {
     "data": {
      "text/plain": [
       "[1, 0, 0, 0, 1, 1, 1, 1, 1, 1, 1, 1, 1]"
      ]
     },
     "execution_count": 19,
     "metadata": {},
     "output_type": "execute_result"
    }
   ],
   "source": [
    "# 도미 10, 빙어 3\n",
    "y_test"
   ]
  },
  {
   "cell_type": "code",
   "execution_count": 20,
   "metadata": {},
   "outputs": [
    {
     "data": {
      "text/plain": [
       "KNeighborsClassifier()"
      ]
     },
     "execution_count": 20,
     "metadata": {},
     "output_type": "execute_result"
    }
   ],
   "source": [
    "kn.fit(x_train,y_train)"
   ]
  },
  {
   "cell_type": "code",
   "execution_count": 21,
   "metadata": {},
   "outputs": [
    {
     "data": {
      "text/plain": [
       "1.0"
      ]
     },
     "execution_count": 21,
     "metadata": {},
     "output_type": "execute_result"
    }
   ],
   "source": [
    "# test 데이터 성능\n",
    "kn.score(x_test,y_test)"
   ]
  },
  {
   "cell_type": "markdown",
   "metadata": {},
   "source": [
    "앞서 train과 test를 분리했으나 도미와 빙어의 수가 35:14로 여전히 샘플링 편향이 일어날 확률이 있다.\n",
    "\n",
    "이럴땐 train_test_split의 stratify를 사용하면 클래스 비율에 맞게 데이터를 나눈다.\n",
    "> 훈련 데이터가 작거나 특정 클래스의 샘플 개수가 적을 때 유용하게 사용할 수 있다."
   ]
  },
  {
   "cell_type": "code",
   "execution_count": 22,
   "metadata": {},
   "outputs": [],
   "source": [
    "from sklearn.model_selection import train_test_split\n",
    "x_train,x_test,y_train,y_test = train_test_split(fish_data, fish_target, stratify = fish_target, random_state = 42 , test_size = 0.25)"
   ]
  },
  {
   "cell_type": "code",
   "execution_count": 23,
   "metadata": {
    "scrolled": true
   },
   "outputs": [
    {
     "data": {
      "text/plain": [
       "[0, 0, 1, 0, 1, 0, 1, 1, 1, 1, 1, 1, 1]"
      ]
     },
     "execution_count": 23,
     "metadata": {},
     "output_type": "execute_result"
    }
   ],
   "source": [
    "# 도미 9, 빙어 4\n",
    "y_test"
   ]
  },
  {
   "cell_type": "code",
   "execution_count": 24,
   "metadata": {},
   "outputs": [
    {
     "data": {
      "text/plain": [
       "KNeighborsClassifier()"
      ]
     },
     "execution_count": 24,
     "metadata": {},
     "output_type": "execute_result"
    }
   ],
   "source": [
    "from sklearn.neighbors import KNeighborsClassifier\n",
    "kn = KNeighborsClassifier()\n",
    "kn.fit(x_train,y_train)"
   ]
  },
  {
   "cell_type": "code",
   "execution_count": 25,
   "metadata": {},
   "outputs": [
    {
     "name": "stdout",
     "output_type": "stream",
     "text": [
      "knn 스코어 : 1.0\n"
     ]
    }
   ],
   "source": [
    "print(\"knn 스코어 :\",kn.score(x_test, y_test))"
   ]
  },
  {
   "cell_type": "code",
   "execution_count": 26,
   "metadata": {
    "scrolled": false
   },
   "outputs": [
    {
     "data": {
      "image/png": "[encoded data removed]",
      "text/plain": [
       "<Figure size 720x432 with 1 Axes>"
      ]
     },
     "metadata": {
      "needs_background": "light"
     },
     "output_type": "display_data"
    },
    {
     "name": "stdout",
     "output_type": "stream",
     "text": [
      "해당 품종은 : [0]\n"
     ]
    }
   ],
   "source": [
    "plt.figure(figsize = (10,6))\n",
    "plt.scatter(bream_length, bream_weight, label = 'bream')\n",
    "plt.scatter(smelt_length, smelt_weight, label = 'smelt')\n",
    "plt.scatter(25,150, c = 'r',s = 100, label  = '???')\n",
    "plt.xlabel('length', fontsize = 14)\n",
    "plt.ylabel('weight', fontsize = 14)\n",
    "plt.legend()\n",
    "plt.show()\n",
    "\n",
    "\n",
    "print(\"해당 품종은 :\", kn.predict([[25,150]]))"
   ]
  },
  {
   "cell_type": "markdown",
   "metadata": {},
   "source": [
    "앞서 만든 모델로 길이가 25이상일 경우 도미 데이터임을 가정하고 예측 돌려본 결과 예상과 달리 빙어로 예측했다.\n",
    "왜???\n",
    "\n",
    "\n",
    "추측 : KNN은 이웃까지의 거리와 이웃 샘플의 인덱스를 반환하는 알고리즘, 아마 5개의 이웃 중 다수가 빙어와 가깝지않을까 예상. \n",
    "\n",
    "#### 추측을 기반으로 모델 학습"
   ]
  },
  {
   "cell_type": "code",
   "execution_count": 27,
   "metadata": {},
   "outputs": [],
   "source": [
    "distances, indexes = kn.kneighbors([[25,150]])"
   ]
  },
  {
   "cell_type": "code",
   "execution_count": 28,
   "metadata": {},
   "outputs": [],
   "source": [
    "copy_x_train = np.array(x_train).copy()"
   ]
  },
  {
   "cell_type": "code",
   "execution_count": 29,
   "metadata": {
    "scrolled": false
   },
   "outputs": [
    {
     "data": {
      "image/png": "[encoded data removed]",
      "text/plain": [
       "<Figure size 1080x576 with 1 Axes>"
      ]
     },
     "metadata": {
      "needs_background": "light"
     },
     "output_type": "display_data"
    }
   ],
   "source": [
    "plt.figure(figsize = (15,8))\n",
    "plt.scatter(copy_x_train[:,0], copy_x_train[:,1], label = 'train_data')\n",
    "plt.scatter(25,150, c = 'r', s = 100, label = \"???\")\n",
    "plt.scatter(copy_x_train[indexes,0], copy_x_train[indexes,1], label = 'knn')\n",
    "plt.xlabel('weight', fontsize = 14)\n",
    "plt.ylabel('length', fontsize = 14)\n",
    "plt.legend()\n",
    "plt.show()"
   ]
  },
  {
   "cell_type": "markdown",
   "metadata": {},
   "source": [
    "예상대로 새로운 데이터에 가장 가까운 데이터는 0 : 빙어였다. 그러나 그래프 상으로 보면 빙어보다 도미의 거리가 더 가까워 보이는게 맞는데 knn은 빙어가 이웃한다고 판단했다."
   ]
  },
  {
   "cell_type": "code",
   "execution_count": 30,
   "metadata": {},
   "outputs": [
    {
     "data": {
      "text/plain": [
       "array([[ 92.00086956, 130.48375378, 130.73859415, 138.32150953,\n",
       "        138.39320793]])"
      ]
     },
     "execution_count": 30,
     "metadata": {},
     "output_type": "execute_result"
    }
   ],
   "source": [
    "# 이웃간 거리\n",
    "distances"
   ]
  },
  {
   "cell_type": "markdown",
   "metadata": {},
   "source": [
    "이웃간 거리를 확인해 본 결과 첫 번째 거리는 92인 반면, 나머지는 130대로 나타났다. 그래프를 다시 살펴보면, 92에 비해 130의 거리가 상당히 멀게 느껴진다... 아마 그래프 비율을 다시 지정해봐야 하지 않나 싶다.\n",
    "\n",
    "이웃이 5개가 나온 이유는 KNN의 기본 이웃값 K가 5이기 때문이다. KNN에서는 적절한 K를 찾아주는 작업이 필요하며, n_neighbors 파라미터를 활용하여 K값을 지정해줄 수 있다."
   ]
  },
  {
   "cell_type": "code",
   "execution_count": 31,
   "metadata": {},
   "outputs": [
    {
     "data": {
      "image/png": "[encoded data removed]",
      "text/plain": [
       "<Figure size 1080x576 with 1 Axes>"
      ]
     },
     "metadata": {
      "needs_background": "light"
     },
     "output_type": "display_data"
    }
   ],
   "source": [
    "plt.figure(figsize = (15,8))\n",
    "plt.scatter(copy_x_train[:,0], copy_x_train[:,1], label = 'train_data')\n",
    "plt.scatter(25,150, c = 'r', s = 100, label = \"???\")\n",
    "plt.scatter(copy_x_train[indexes,0], copy_x_train[indexes,1], label = 'neighbors')\n",
    "plt.xlim(0,1000)\n",
    "plt.xlabel('weight', fontsize = 14)\n",
    "plt.ylabel('length', fontsize = 14)\n",
    "plt.legend()\n",
    "plt.show()"
   ]
  },
  {
   "cell_type": "markdown",
   "metadata": {},
   "source": [
    "x축 범위를 y축과 동일하게 0~1000으로 맞춰 그래프를 그려봤다.\n",
    "\n",
    "이전 그래프와 달리, y축에 의해 결과가 반영된 것임을 알 수 있다. 다만 지금의 그래프를 확인하여 데이터를 파악한다면 y축인 생선의 무게만 탐색이 가능할 것이다. -> 길이와 무게간의 적절한 스케일 조절이 필요함을 생각해볼 수 있었다.\n",
    "\n",
    "스케일 조절 방법에는 다양한 방법이 있지만 특성값이 0에서 표준편차의 몇 배만큼 떨어져있는지를 판단하는 StandardScaler를 사용할 생각이다."
   ]
  },
  {
   "cell_type": "code",
   "execution_count": 32,
   "metadata": {},
   "outputs": [],
   "source": [
    "# standard 스케일 시행\n",
    "mean = np.mean(x_train, axis = 0)\n",
    "std = np.std(x_train, axis = 0)\n",
    "train_scaled = (x_train - mean)/std\n",
    "new = ([25,150] - mean)/std"
   ]
  },
  {
   "cell_type": "code",
   "execution_count": 33,
   "metadata": {},
   "outputs": [
    {
     "data": {
      "image/png": "[encoded data removed]",
      "text/plain": [
       "<Figure size 1080x576 with 1 Axes>"
      ]
     },
     "metadata": {
      "needs_background": "light"
     },
     "output_type": "display_data"
    }
   ],
   "source": [
    "plt.figure(figsize = (15,8))\n",
    "plt.scatter(train_scaled[:,0], train_scaled[:,1], label = 'sclaed_train_data')\n",
    "plt.scatter(new[0], new[1], c = 'r', s = 100, label = \"???\")\n",
    "plt.xlabel('weight', fontsize = 14)\n",
    "plt.ylabel('length', fontsize = 14)\n",
    "plt.legend()\n",
    "plt.show()"
   ]
  },
  {
   "cell_type": "markdown",
   "metadata": {},
   "source": [
    "스케일링 진행 후 재차 모델 학습"
   ]
  },
  {
   "cell_type": "code",
   "execution_count": 34,
   "metadata": {},
   "outputs": [
    {
     "data": {
      "text/plain": [
       "KNeighborsClassifier()"
      ]
     },
     "execution_count": 34,
     "metadata": {},
     "output_type": "execute_result"
    }
   ],
   "source": [
    "kn.fit(train_scaled, y_train)"
   ]
  },
  {
   "cell_type": "markdown",
   "metadata": {},
   "source": [
    "스케일링을 해줄때는 반드시 test도 해줘야한다. 대신 train데이터의 평균과 표준편차로 변환해야하며 그렇지 않을 경우 데이터의 스케일이 같아지지않아 모델의 성능에 큰 문제가 발생한다."
   ]
  },
  {
   "cell_type": "code",
   "execution_count": 35,
   "metadata": {},
   "outputs": [],
   "source": [
    "# test 스케일 조절\n",
    "test_scaled = (x_test-mean)/std"
   ]
  },
  {
   "cell_type": "code",
   "execution_count": 36,
   "metadata": {},
   "outputs": [
    {
     "name": "stdout",
     "output_type": "stream",
     "text": [
      "스케일 조절한 knn score : 1.0\n"
     ]
    }
   ],
   "source": [
    "print(\"스케일 조절한 knn score :\" ,kn.score(test_scaled, y_test))"
   ]
  },
  {
   "cell_type": "code",
   "execution_count": 37,
   "metadata": {},
   "outputs": [
    {
     "name": "stdout",
     "output_type": "stream",
     "text": [
      "[1]\n"
     ]
    }
   ],
   "source": [
    "print(kn.predict([new]))"
   ]
  },
  {
   "cell_type": "markdown",
   "metadata": {},
   "source": [
    "#### 이전과 달리 드디어 도미 : 1 로 예측했다."
   ]
  },
  {
   "cell_type": "code",
   "execution_count": 38,
   "metadata": {},
   "outputs": [],
   "source": [
    "distances, idx = kn.kneighbors([new])"
   ]
  },
  {
   "cell_type": "code",
   "execution_count": 39,
   "metadata": {},
   "outputs": [
    {
     "data": {
      "image/png": "[encoded data removed]",
      "text/plain": [
       "<Figure size 864x432 with 1 Axes>"
      ]
     },
     "metadata": {
      "needs_background": "light"
     },
     "output_type": "display_data"
    }
   ],
   "source": [
    "plt.figure(figsize = (12,6))\n",
    "plt.scatter(train_scaled[:,0],train_scaled[:,1], label = 'train data', c = y_train)\n",
    "plt.scatter(new[0],new[1], label = '???', s = 100, c = 'r')\n",
    "plt.scatter(train_scaled[idx,0], train_scaled[idx,1], label = 'neighbors', c = 'b')\n",
    "plt.xlabel('weight', fontsize = 14)\n",
    "plt.ylabel('length', fontsize = 14)\n",
    "plt.legend()\n",
    "plt.show()"
   ]
  },
  {
   "cell_type": "markdown",
   "metadata": {},
   "source": [
    "그래프로 그려본 결과 역시 스케일링 전과 달리 가장 가까운 샘플들이 모두 1로 나왔다.\n",
    "\n",
    "\n",
    "무게와 길이의 스케일 조절만으로 유의미한 결과를 뽑아낼 수 있다."
   ]
  },
  {
   "cell_type": "markdown",
   "metadata": {},
   "source": [
    "## KNNRegressor\n",
    "\n",
    "- 샘플과 가까운 클래스 k개를 선택하는게 knn 분류였다면  회귀는 샘플과 클래스들간의 거리 k의 평균을 사용한다.\n",
    "\n",
    "\n",
    "앞에서 사용한 생선 정보 데이터에서 농어를 의미하는 Perch의 길이로 무게를 예측하는 모델을 만들어볼 예정이다."
   ]
  },
  {
   "cell_type": "code",
   "execution_count": 40,
   "metadata": {},
   "outputs": [
    {
     "data": {
      "text/plain": [
       "array(['Bream', 'Parkki', 'Perch', 'Pike', 'Roach', 'Smelt', 'Whitefish'],\n",
       "      dtype=object)"
      ]
     },
     "execution_count": 40,
     "metadata": {},
     "output_type": "execute_result"
    }
   ],
   "source": [
    "np.unique(data['Species'])"
   ]
  },
  {
   "cell_type": "code",
   "execution_count": 41,
   "metadata": {},
   "outputs": [],
   "source": [
    "perch_data = data[data['Species'] == 'Perch']"
   ]
  },
  {
   "cell_type": "code",
   "execution_count": 42,
   "metadata": {},
   "outputs": [],
   "source": [
    "perch_length = perch_data['Length2']\n",
    "perch_weight = perch_data['Weight']"
   ]
  },
  {
   "cell_type": "code",
   "execution_count": 43,
   "metadata": {},
   "outputs": [
    {
     "data": {
      "image/png": "[encoded data removed]",
      "text/plain": [
       "<Figure size 720x432 with 1 Axes>"
      ]
     },
     "metadata": {
      "needs_background": "light"
     },
     "output_type": "display_data"
    }
   ],
   "source": [
    "# 시각화\n",
    "plt.figure(figsize = (10,6))\n",
    "plt.scatter(perch_length, perch_weight)\n",
    "plt.xlabel('length', fontsize = 14)\n",
    "plt.ylabel('weight', fontsize = 14)\n",
    "plt.show()"
   ]
  },
  {
   "cell_type": "code",
   "execution_count": 44,
   "metadata": {},
   "outputs": [],
   "source": [
    "from sklearn.model_selection import train_test_split\n",
    "x_train,x_test,y_train,y_test = train_test_split(perch_length, perch_weight, random_state = 42)"
   ]
  },
  {
   "cell_type": "code",
   "execution_count": 45,
   "metadata": {},
   "outputs": [],
   "source": [
    "x_train = np.array(x_train).reshape(-1,1)\n",
    "x_test = np.array(x_test).reshape(-1,1)"
   ]
  },
  {
   "cell_type": "code",
   "execution_count": 46,
   "metadata": {},
   "outputs": [
    {
     "name": "stdout",
     "output_type": "stream",
     "text": [
      "(42, 1)\n",
      "(14, 1)\n",
      "(42,)\n",
      "(14,)\n"
     ]
    }
   ],
   "source": [
    "print(x_train.shape)\n",
    "print(x_test.shape)\n",
    "print(y_train.shape)\n",
    "print(y_test.shape)"
   ]
  },
  {
   "cell_type": "code",
   "execution_count": 47,
   "metadata": {},
   "outputs": [
    {
     "data": {
      "text/plain": [
       "KNeighborsRegressor()"
      ]
     },
     "execution_count": 47,
     "metadata": {},
     "output_type": "execute_result"
    }
   ],
   "source": [
    "# 이웃근접회귀 학습\n",
    "from sklearn.neighbors import KNeighborsRegressor\n",
    "\n",
    "knr = KNeighborsRegressor()\n",
    "knr.fit(x_train,y_train)"
   ]
  },
  {
   "cell_type": "code",
   "execution_count": 48,
   "metadata": {},
   "outputs": [
    {
     "name": "stdout",
     "output_type": "stream",
     "text": [
      "KNR R^2: 0.992809406101064\n"
     ]
    }
   ],
   "source": [
    "# \n",
    "print(\"KNR R^2:\",knr.score(x_test,y_test))"
   ]
  },
  {
   "cell_type": "code",
   "execution_count": 49,
   "metadata": {},
   "outputs": [],
   "source": [
    "from sklearn.metrics import mean_absolute_error,mean_squared_error\n",
    "\n",
    "pred = knr.predict(x_test)\n",
    "mae = mean_absolute_error(y_test, pred)\n",
    "mse = mean_squared_error(y_test, pred)"
   ]
  },
  {
   "cell_type": "code",
   "execution_count": 50,
   "metadata": {
    "scrolled": true
   },
   "outputs": [
    {
     "name": "stdout",
     "output_type": "stream",
     "text": [
      "평균 제곱 오차: 721.7385714285714\n",
      "평균 절대값 오차: 19.157142857142862\n"
     ]
    }
   ],
   "source": [
    "print(\"평균 제곱 오차:\", mse)\n",
    "print(\"평균 절대값 오차:\", mae)"
   ]
  },
  {
   "cell_type": "code",
   "execution_count": 51,
   "metadata": {},
   "outputs": [
    {
     "name": "stdout",
     "output_type": "stream",
     "text": [
      "train data의 r^2 score: 0.9698823289099254\n",
      "test data의 r^2 score: 0.992809406101064\n"
     ]
    }
   ],
   "source": [
    "print(\"train data의 r^2 score:\", knr.score(x_train,y_train))\n",
    "print(\"test data의 r^2 score:\", knr.score(x_test,y_test))"
   ]
  },
  {
   "cell_type": "markdown",
   "metadata": {},
   "source": [
    "모델을 훈련시킬 때 과대적합과 과소적합 여부를 고려해봐야한다.\n",
    "\n",
    "### 과대적합 : train 세트에만 잘 맞는 모델, test나 새로운 데이터셋으로 예측을 할 때 성능이 낮게 나오는 경우\n",
    "- 너무 복잡한 모델 사용시 발생,  모델에 규제를 더함\n",
    "\n",
    "### 과소적합 : train 세트에서보다 test 데이터에서 점수가 더 높게 나오거나 둘다 낮게 나오는 경우\n",
    "- 데이터가 너무 적은 경우, 모델이 너무 단순하여 train 데이터에 적절히 학습되지 않은 경우 발생, 모델을 좀더 복잡하게 구성\n",
    "\n",
    "\n",
    "해당 데이터 역시 test 데이터가 train 데이터보다 score가 높게 나오기때문에 과소적합을 의심해 볼 수 있다.\n",
    "\n",
    "KNN은 이웃의 수 K를 조절하여 모델의 복잡성을 추가, 완화 시킬수 있다. 따라서 모델의 이웃의 수를 좀더 줄여본다."
   ]
  },
  {
   "cell_type": "code",
   "execution_count": 52,
   "metadata": {},
   "outputs": [
    {
     "data": {
      "text/plain": [
       "KNeighborsRegressor(n_neighbors=3)"
      ]
     },
     "execution_count": 52,
     "metadata": {},
     "output_type": "execute_result"
    }
   ],
   "source": [
    "knr = KNeighborsRegressor(n_neighbors = 3)\n",
    "knr.fit(x_train,y_train)"
   ]
  },
  {
   "cell_type": "code",
   "execution_count": 53,
   "metadata": {
    "scrolled": true
   },
   "outputs": [
    {
     "name": "stdout",
     "output_type": "stream",
     "text": [
      "train data의 r^2 score: 0.9804899950518966\n",
      "test data의 r^2 score: 0.9746459963987609\n"
     ]
    }
   ],
   "source": [
    "print(\"train data의 r^2 score:\", knr.score(x_train,y_train))\n",
    "print(\"test data의 r^2 score:\", knr.score(x_test,y_test))"
   ]
  },
  {
   "cell_type": "markdown",
   "metadata": {},
   "source": [
    "모델의 이웃수를 줄여본 결과, train data의 점수가 test data보다 높아졌으며 2개의 결과 간 점수 차이가 근소하게 난다.\n",
    "\n",
    "과소적합 문제가 다소 해결되었다고 판단해도 좋을듯 하다."
   ]
  },
  {
   "cell_type": "code",
   "execution_count": 122,
   "metadata": {},
   "outputs": [
    {
     "data": {
      "image/png": "[encoded data removed]",
      "text/plain": [
       "<Figure size 1440x1440 with 3 Axes>"
      ]
     },
     "metadata": {
      "needs_background": "light"
     },
     "output_type": "display_data"
    }
   ],
   "source": [
    "# 이웃 개수에 따른 회귀 그래프\n",
    "plt.figure(figsize = (20,20))\n",
    "x = np.arange(1,45).reshape(-1,1)\n",
    "a = 0\n",
    "\n",
    "for i in [1,5,10] :\n",
    "    a += 1\n",
    "    knr = KNeighborsRegressor(n_neighbors = i)\n",
    "    knr.fit(x_train,y_train)\n",
    "    y_pred = knr.predict(x)\n",
    "    plt.subplot(3,1,a)\n",
    "    plt.scatter(perch_length, perch_weight)\n",
    "    plt.plot(x, y_pred)\n",
    "    plt.title('neighbors : {}'.format(i))\n",
    "\n",
    "plt.show()    "
   ]
  },
  {
   "cell_type": "code",
   "execution_count": 54,
   "metadata": {},
   "outputs": [],
   "source": [
    "pred = knr.predict(x_test)"
   ]
  },
  {
   "cell_type": "code",
   "execution_count": 55,
   "metadata": {},
   "outputs": [
    {
     "data": {
      "text/plain": [
       "72        5.9\n",
       "77      100.0\n",
       "105     250.0\n",
       "85      130.0\n",
       "91      130.0\n",
       "122     820.0\n",
       "108     320.0\n",
       "98      188.0\n",
       "116     900.0\n",
       "84      125.0\n",
       "126    1000.0\n",
       "75       51.5\n",
       "106     250.0\n",
       "102     300.0\n",
       "Name: Weight, dtype: float64"
      ]
     },
     "execution_count": 55,
     "metadata": {},
     "output_type": "execute_result"
    }
   ],
   "source": [
    "y_test"
   ]
  },
  {
   "cell_type": "code",
   "execution_count": 56,
   "metadata": {},
   "outputs": [
    {
     "data": {
      "text/plain": [
       "array([  47.33333333,   76.        ,  247.66666667,  120.        ,\n",
       "        143.33333333,  921.66666667,  275.        ,  183.33333333,\n",
       "        773.33333333,  120.        , 1033.33333333,   62.66666667,\n",
       "        275.        ,  247.66666667])"
      ]
     },
     "execution_count": 56,
     "metadata": {},
     "output_type": "execute_result"
    }
   ],
   "source": [
    "pred"
   ]
  },
  {
   "cell_type": "code",
   "execution_count": 57,
   "metadata": {},
   "outputs": [
    {
     "data": {
      "image/png": "[encoded data removed]",
      "text/plain": [
       "<Figure size 864x432 with 1 Axes>"
      ]
     },
     "metadata": {
      "needs_background": "light"
     },
     "output_type": "display_data"
    }
   ],
   "source": [
    "plt.figure(figsize = (12,6))\n",
    "plt.plot(np.arange(0,14),y_test , label = 'origin')\n",
    "plt.plot(np.arange(0,14),pred, label = 'predict')\n",
    "plt.ylabel('weight', fontsize = 14)\n",
    "plt.legend()\n",
    "plt.show()"
   ]
  },
  {
   "cell_type": "code",
   "execution_count": 58,
   "metadata": {},
   "outputs": [
    {
     "data": {
      "image/png": "[encoded data removed]",
      "text/plain": [
       "<Figure size 864x432 with 1 Axes>"
      ]
     },
     "metadata": {
      "needs_background": "light"
     },
     "output_type": "display_data"
    }
   ],
   "source": [
    "plt.figure(figsize = (12,6))\n",
    "plt.scatter(x_test, y_test, label = 'origin')\n",
    "plt.scatter(x_test, pred, label = 'predict')\n",
    "plt.legend()\n",
    "plt.show()"
   ]
  },
  {
   "cell_type": "markdown",
   "metadata": {},
   "source": [
    "knn 이웃 회귀는 각각의 거리를 계산하여 구한다. 그렇기 때문에 데이터의 개수가 늘어날수록 계산 시간은 늘어날 수 밖에 없다.<br>\n",
    "knn의 이러한 단점을 보완하여 구성할 수 있는게 선형 회귀이다."
   ]
  },
  {
   "cell_type": "markdown",
   "metadata": {},
   "source": [
    "## 최근접 이웃 회귀 단점"
   ]
  },
  {
   "cell_type": "code",
   "execution_count": 67,
   "metadata": {},
   "outputs": [
    {
     "data": {
      "image/png": "[encoded data removed]",
      "text/plain": [
       "<Figure size 864x432 with 1 Axes>"
      ]
     },
     "metadata": {
      "needs_background": "light"
     },
     "output_type": "display_data"
    }
   ],
   "source": [
    "# 다시 농어 길이별 무게\n",
    "plt.figure(figsize = (12,6))\n",
    "plt.scatter(perch_length, perch_weight)\n",
    "plt.xlabel('length')\n",
    "plt.ylabel('weight')\n",
    "plt.show()"
   ]
  },
  {
   "cell_type": "markdown",
   "metadata": {},
   "source": [
    "농어는 다른 생선들과 달리 길이와 무게가 다양하게 분포되어있었다."
   ]
  },
  {
   "cell_type": "code",
   "execution_count": 68,
   "metadata": {},
   "outputs": [],
   "source": [
    "from sklearn.model_selection import train_test_split\n",
    "x_train,x_test,y_train,y_test = train_test_split(perch_length,perch_weight, random_state = 42)"
   ]
  },
  {
   "cell_type": "code",
   "execution_count": 70,
   "metadata": {},
   "outputs": [
    {
     "name": "stdout",
     "output_type": "stream",
     "text": [
      "(42, 1)\n",
      "(14, 1)\n",
      "(42,)\n",
      "(14,)\n"
     ]
    }
   ],
   "source": [
    "x_train = np.array(x_train).reshape(-1,1)\n",
    "x_test = np.array(x_test).reshape(-1,1)\n",
    "print(x_train.shape)\n",
    "print(x_test.shape)\n",
    "print(y_train.shape)\n",
    "print(y_test.shape)"
   ]
  },
  {
   "cell_type": "code",
   "execution_count": 72,
   "metadata": {},
   "outputs": [
    {
     "data": {
      "text/plain": [
       "KNeighborsRegressor(n_neighbors=3)"
      ]
     },
     "execution_count": 72,
     "metadata": {},
     "output_type": "execute_result"
    }
   ],
   "source": [
    "# knn\n",
    "from sklearn.neighbors import KNeighborsRegressor\n",
    "\n",
    "knr = KNeighborsRegressor(n_neighbors = 3)\n",
    "knr.fit(x_train,y_train)"
   ]
  },
  {
   "cell_type": "code",
   "execution_count": 107,
   "metadata": {},
   "outputs": [
    {
     "name": "stdout",
     "output_type": "stream",
     "text": [
      "[1033.33333333]\n",
      "[1033.33333333]\n"
     ]
    }
   ],
   "source": [
    "# 길이가 50cm인 농어의 무게\n",
    "print(knr.predict([[50]]))\n",
    "# 길이가 100cm인 농어의 무게\n",
    "print(knr.predict([[100]]))"
   ]
  },
  {
   "cell_type": "markdown",
   "metadata": {},
   "source": [
    "농어의 길이 50, 100cm 모두 1033g의 무게가 나왔다."
   ]
  },
  {
   "cell_type": "code",
   "execution_count": 105,
   "metadata": {},
   "outputs": [],
   "source": [
    "distance,idx = knr.kneighbors([[50]])"
   ]
  },
  {
   "cell_type": "code",
   "execution_count": 110,
   "metadata": {},
   "outputs": [
    {
     "data": {
      "image/png": "[encoded data removed]",
      "text/plain": [
       "<Figure size 1440x576 with 2 Axes>"
      ]
     },
     "metadata": {
      "needs_background": "light"
     },
     "output_type": "display_data"
    }
   ],
   "source": [
    "plt.figure(figsize = (20,8))\n",
    "\n",
    "plt.subplot(1,2,1)\n",
    "plt.scatter(perch_length, perch_weight,c = 'black')\n",
    "plt.scatter(50,1033, c = 'g')\n",
    "plt.scatter(x_train[idx],y_train[idx], c = 'r')\n",
    "plt.xlim(0,110)\n",
    "plt.title('perch length : 50cm')\n",
    "\n",
    "plt.subplot(1,2,2)\n",
    "plt.scatter(perch_length, perch_weight,c = 'black')\n",
    "plt.scatter(100,1033, c = 'g')\n",
    "plt.scatter(x_train[idx],y_train[idx], c = 'r')\n",
    "plt.xlim(0,110)\n",
    "plt.title('perch length : 100cm')\n",
    "\n",
    "plt.show()"
   ]
  },
  {
   "cell_type": "code",
   "execution_count": 104,
   "metadata": {},
   "outputs": [
    {
     "name": "stdout",
     "output_type": "stream",
     "text": [
      "1033.3333333333333\n"
     ]
    }
   ],
   "source": [
    "# ytrain 이웃 3개의 평균\n",
    "print(np.mean(y_train[idx]))"
   ]
  },
  {
   "cell_type": "markdown",
   "metadata": {},
   "source": [
    "#### 50cm와 100cm인 농어의 무게가 모두 1033g으로 예측하는 결과가 나오는 이유\n",
    "\n",
    "k 최근접 이웃 회귀는 가장 가까운 샘플을 찾아 타깃을 평균한다. 따라서 train 데이터의 범위를 벗어나면 정확한 값을 예측하기가 어렵다."
   ]
  }
 ],
 "metadata": {
  "kernelspec": {
   "display_name": "Python 3",
   "language": "python",
   "name": "python3"
  },
  "language_info": {
   "codemirror_mode": {
    "name": "ipython",
    "version": 3
   },
   "file_extension": ".py",
   "mimetype": "text/x-python",
   "name": "python",
   "nbconvert_exporter": "python",
   "pygments_lexer": "ipython3",
   "version": "3.8.5"
  }
 },
 "nbformat": 4,
 "nbformat_minor": 4
}
